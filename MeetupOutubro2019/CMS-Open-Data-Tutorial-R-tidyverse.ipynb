{
 "cells": [
  {
   "cell_type": "markdown",
   "metadata": {},
   "source": [
    "# Física de partículas ...  com R  e tidyverse\n",
    "\n",
    "Esse tutorial utiliza os dados abertos do experimento CMS do LHC [CMS Open Data](http://opendata.cern.ch/about/cms) Disponíveis no site [CERN Open Data portal](http://opendata.cern.ch).\n",
    "\n",
    "Para rodar esse tutorial offline, vide o arquivo [README](https://github.com/cms-opendata-education/cms-rmaterial-multiple-languages/blob/master/README.md), con instruções em inglés. Eu estou rodando o  notebook na minha instalação local de R. \n",
    "\n",
    "Também é possível copiar as linhas de código e colar na consola de comandos do RStudio, ou num script e logo rodá-lo.\n",
    "\n",
    "\n",
    "**Créditos:**\n",
    "   * Adaptado do original de [Edith Villegas Garcia](https://github.com/edithvillegas),  [Andrew John Lowe](https://github.com/andrewjohnlowe) e [Achintya Rao](https://github.com/RaoOfPhysics). \n",
    "\n",
    "   * Traduzido ao português e adicionado o ajuste por [Clemencia Mora Herrera](https://github.com/clemencia).\n",
    "\n",
    "---\n"
   ]
  },
  {
   "cell_type": "markdown",
   "metadata": {},
   "source": [
    "\n",
    "## Os dados:\n",
    "\n",
    "Este tutorial, introduce análise de dados com  R usando dados divulgados ao público no portal **CMS Open Data**. \n",
    "\n",
    "A origem desses dados colisões de prótons do LHC no ano 2011 (Energia do centro-de-massa de 7 TeV). \n",
    "Estes dados contém medições de partículas do estado final, dois ***múons*** (uma versão um pouco mais pesada do elétron, comúm em raios cósmicos). \n",
    "\n",
    "A primeira imagem mostra um desenho esquemático do LHC e seus 4 principais experimentos."
   ]
  },
  {
   "cell_type": "markdown",
   "metadata": {},
   "source": [
    "<figure>\n",
    "    <img src=\"https://github.com/cms-opendata-education/zboson-exercise/blob/master/images/LHC.png?raw=true\" alt=\"image missing\" style=\"height: 350px\" />\n",
    "   <figcaption> Imagem 1: O LHC e seus 4 principais experimentos. &copy; \n",
    "       <a href=\"https://cds.cern.ch/record/1708847\">CERN</a> \n",
    "    </figcaption>\n",
    "</figure>\n"
   ]
  },
  {
   "cell_type": "markdown",
   "metadata": {},
   "source": [
    "No LHC prótons são acelerados a altíssimas velocidades e feitos colidir em pontos determinados (os 4 da figura acima), onde cada experimento com seus detectores registra e salva a informação dos produtos da colisão. A energia da colisão pode ser convertida em massa de novas partículas ($E=mc^2$) que podem decair em outras mais leves, deixando sinais nos instrumentos de medição em cada detector. Os sinais são traduzidos em momentum ($p=mv$), carga da partícula, energia e a sua direção de saida do ponto de interação.\n",
    "\n",
    "\n",
    "\n",
    "O seguinte é um vídeo que mostra como acontecem as colisões e medições no acelerador LHC."
   ]
  },
  {
   "cell_type": "code",
   "execution_count": 1,
   "metadata": {},
   "outputs": [
    {
     "data": {
      "text/html": [
       "<iframe width=\"560\" height=\"315\" src=\"https://www.youtube.com/embed/pQhbhpU9Wrg\" frameborder=\"0\" allow=\"accelerometer; autoplay; encrypted-media; gyroscope; picture-in-picture\" allowfullscreen></iframe>"
      ]
     },
     "metadata": {},
     "output_type": "display_data"
    }
   ],
   "source": [
    "library(IRdisplay)\n",
    "display_html('<iframe width=\"560\" height=\"315\" src=\"https://www.youtube.com/embed/pQhbhpU9Wrg\" frameborder=\"0\" allow=\"accelerometer; autoplay; encrypted-media; gyroscope; picture-in-picture\" allowfullscreen></iframe>')"
   ]
  },
  {
   "cell_type": "markdown",
   "metadata": {},
   "source": [
    "Se combinarmos a informação da energia e momentum dos dois múons para cada observação (_evento_), podemos observar que em certos valores de  ***massa invariante*** (a energia de uma partícula de massa $m$ em reposo é $E=m c^2$ --> relatividade restrita isto é sempre válido no sistema de referência dela própia, então essa massa própria é constante para sistemas de referência diferentes) a frequência de observações é maior: isto quer dizer que existe uma partícula subatómica que decaiu em um par de múons e chamamos isso de uma \"ressonância\". Podemos inferir a presença dessas partículas indiretamente observando seus produtos de decaimento, os múons, e a sua frequência.\n"
   ]
  },
  {
   "cell_type": "markdown",
   "metadata": {},
   "source": [
    "<figure>\n",
    "    <img src=\"http://github.com/cms-opendata-education/zboson-exercise/blob/master/images/eventdisplay.png?raw=true\" alt=\"image missing\" style=\"height: 350px\" />\n",
    "    <figcaption> Imagem 2: Visualização da detecção de dois múons em uma colisão no CMS. </figcaption>\n",
    "</figure>"
   ]
  },
  {
   "cell_type": "markdown",
   "metadata": {},
   "source": [
    "<figure>\n",
    "    <img src=\"http://github.com/cms-opendata-education/zboson-exercise/blob/master/images/CMS.jpg?raw=true\" alt=\"image missing\" style=\"height: 350px\" />\n",
    "    <figcaption> Imagem 3: Estrutura do experimento CMS, aberto. &copy; \n",
    "        <a href=\"https://cds.cern.ch/record/1433717\">CERN</a> \n",
    "     </figcaption>\n",
    "</figure>"
   ]
  },
  {
   "cell_type": "markdown",
   "metadata": {},
   "source": [
    "<figure>\n",
    "    <img src=\"http://github.com/cms-opendata-education/zboson-exercise/blob/master/images/CMS2.gif?raw=true\" alt=\"image missing\" style=\"height: 350px\" /> \n",
    "    <figcaption>Imagem 4: Seção transversal do CMS, e como as partículas são detectadas nele. &copy; \n",
    "        <a href=\\\"https://cms-docdb.cern.ch/cgi-bin/PublicDocDB/ShowDocument?docid=4172\\\">CERN</a> \n",
    "    </figcaption>\n",
    "</figure>"
   ]
  },
  {
   "cell_type": "markdown",
   "metadata": {},
   "source": [
    "Nesse tutorial podemos criar um gráfico de frequências onde é possível perceber os picos correspondentes a algumas dessas partículas que tem preferência pelo decaimento em dois múons."
   ]
  },
  {
   "cell_type": "markdown",
   "metadata": {},
   "source": [
    "## Breve introdução a R\n",
    "\n",
    "R é uma linguagem de programação usada amplamente em estatística e ciência de dados. \n",
    "\n",
    "\n",
    "_\"R é a língua franca da estatística\"_ (W. Zeviani, UFPR)\n",
    "\n",
    "[ http://leg.ufpr.br/~walmes/cursoR/data-vis/slides/01-tidyverse.pdf ] \n",
    "\n",
    "\n",
    "\n",
    " \n",
    "### Os tipos de dados em R\n",
    "\n",
    "Os tipos básicos de dados em R são:\n",
    "- Logical -- lógicos ou booleanos: TRUE ou FALSE)\n",
    "- Numeric -- números em geral, números reais\n",
    "- Integer -- inteiros\n",
    "- Complex -- complexos\n",
    "- Character -- carateres ou sequências deles: letras, números como carater, símbolos e frases\n",
    "\n",
    "Em geral, sem ter que especificar, R assigna automátiamente um tipo às variáveis declaradas.\n",
    "Qualquer número é tipo ```numeric```, mas para especificar ```integer``` temos que adicionar um aletra \"L\" no final do valor.\n",
    "\n",
    "A linha abaixo declara a variável ```a``` com valor $5$ de tipo inteiro."
   ]
  },
  {
   "cell_type": "code",
   "execution_count": 2,
   "metadata": {},
   "outputs": [],
   "source": [
    "a <- 5L"
   ]
  },
  {
   "cell_type": "markdown",
   "metadata": {},
   "source": [
    "Para declarar variáveis complexas a sintaxe é a seguinte:"
   ]
  },
  {
   "cell_type": "code",
   "execution_count": 3,
   "metadata": {},
   "outputs": [],
   "source": [
    "b <- 5 + 3i\n",
    "d <- 8 + 0i"
   ]
  },
  {
   "cell_type": "markdown",
   "metadata": {},
   "source": [
    "As variáveis lógicas podem tomar o valor ```TRUE``` ou ```FALSE```, mas també pode ser assignado o valor resultante de uma expressão condicional, p.ex.:"
   ]
  },
  {
   "cell_type": "code",
   "execution_count": 4,
   "metadata": {},
   "outputs": [],
   "source": [
    "c <- 3 > 5"
   ]
  },
  {
   "cell_type": "markdown",
   "metadata": {},
   "source": [
    "As variáveis de carateres podem ser letras, frases ou outros carateres incluindo números entre aspas."
   ]
  },
  {
   "cell_type": "code",
   "execution_count": 5,
   "metadata": {},
   "outputs": [],
   "source": [
    "cr <- \"3!\""
   ]
  },
  {
   "cell_type": "markdown",
   "metadata": {},
   "source": [
    "Para saber o valor de cada variável eu simplesmente chamo o nome:"
   ]
  },
  {
   "cell_type": "code",
   "execution_count": 6,
   "metadata": {},
   "outputs": [
    {
     "data": {
      "text/html": [
       "5"
      ],
      "text/latex": [
       "5"
      ],
      "text/markdown": [
       "5"
      ],
      "text/plain": [
       "[1] 5"
      ]
     },
     "metadata": {},
     "output_type": "display_data"
    },
    {
     "data": {
      "text/html": [
       "5+3i"
      ],
      "text/latex": [
       "5+3i"
      ],
      "text/markdown": [
       "5+3i"
      ],
      "text/plain": [
       "[1] 5+3i"
      ]
     },
     "metadata": {},
     "output_type": "display_data"
    },
    {
     "data": {
      "text/html": [
       "FALSE"
      ],
      "text/latex": [
       "FALSE"
      ],
      "text/markdown": [
       "FALSE"
      ],
      "text/plain": [
       "[1] FALSE"
      ]
     },
     "metadata": {},
     "output_type": "display_data"
    },
    {
     "data": {
      "text/html": [
       "8+0i"
      ],
      "text/latex": [
       "8+0i"
      ],
      "text/markdown": [
       "8+0i"
      ],
      "text/plain": [
       "[1] 8+0i"
      ]
     },
     "metadata": {},
     "output_type": "display_data"
    },
    {
     "data": {
      "text/html": [
       "'3!'"
      ],
      "text/latex": [
       "'3!'"
      ],
      "text/markdown": [
       "'3!'"
      ],
      "text/plain": [
       "[1] \"3!\""
      ]
     },
     "metadata": {},
     "output_type": "display_data"
    }
   ],
   "source": [
    "a\n",
    "b\n",
    "c\n",
    "d\n",
    "cr"
   ]
  },
  {
   "cell_type": "markdown",
   "metadata": {},
   "source": [
    "#### Vetores\n",
    "\n",
    "É possível agrupar valores em variáveis vetoriais dessa forma:"
   ]
  },
  {
   "cell_type": "code",
   "execution_count": 7,
   "metadata": {},
   "outputs": [],
   "source": [
    "a <- c(2, 3, 5)"
   ]
  },
  {
   "cell_type": "markdown",
   "metadata": {},
   "source": [
    "Os vetores podem ser de qualquer tipo. Também podemos aplicar condições aos vetores para criar um vetor lógico:"
   ]
  },
  {
   "cell_type": "code",
   "execution_count": 8,
   "metadata": {},
   "outputs": [],
   "source": [
    "a <- c(2, 5, 8, 3, 9)\n",
    "b <- a > 3"
   ]
  },
  {
   "cell_type": "markdown",
   "metadata": {},
   "source": [
    "O vetor ```b``` é o resultado da avaliação da condição ```x>3``` para cada elemento ```x``` do vetor ```a```."
   ]
  },
  {
   "cell_type": "code",
   "execution_count": 9,
   "metadata": {},
   "outputs": [
    {
     "data": {
      "text/html": [
       "<ol class=list-inline>\n",
       "\t<li>FALSE</li>\n",
       "\t<li>TRUE</li>\n",
       "\t<li>TRUE</li>\n",
       "\t<li>FALSE</li>\n",
       "\t<li>TRUE</li>\n",
       "</ol>\n"
      ],
      "text/latex": [
       "\\begin{enumerate*}\n",
       "\\item FALSE\n",
       "\\item TRUE\n",
       "\\item TRUE\n",
       "\\item FALSE\n",
       "\\item TRUE\n",
       "\\end{enumerate*}\n"
      ],
      "text/markdown": [
       "1. FALSE\n",
       "2. TRUE\n",
       "3. TRUE\n",
       "4. FALSE\n",
       "5. TRUE\n",
       "\n",
       "\n"
      ],
      "text/plain": [
       "[1] FALSE  TRUE  TRUE FALSE  TRUE"
      ]
     },
     "metadata": {},
     "output_type": "display_data"
    }
   ],
   "source": [
    "b"
   ]
  },
  {
   "cell_type": "markdown",
   "metadata": {},
   "source": [
    "Para acessar algum elemento do vetor, podemos chamar o nome da variável vetor com o índice do elemento desejado. O contador começa de 1 (outras linguagens utilizam 0).\n",
    "\n",
    "Entáo o primeiro elemento de ```a``` será acessado assim:"
   ]
  },
  {
   "cell_type": "code",
   "execution_count": 10,
   "metadata": {},
   "outputs": [
    {
     "data": {
      "text/html": [
       "2"
      ],
      "text/latex": [
       "2"
      ],
      "text/markdown": [
       "2"
      ],
      "text/plain": [
       "[1] 2"
      ]
     },
     "metadata": {},
     "output_type": "display_data"
    }
   ],
   "source": [
    "a[1]"
   ]
  },
  {
   "cell_type": "markdown",
   "metadata": {},
   "source": [
    "Também é possível acessar os elementos que satisfazem uma condição. A linha seguinte entrega o subconjunto (sub-vetor) dos elementos de ```a``` que tem valor maior que $3$."
   ]
  },
  {
   "cell_type": "code",
   "execution_count": 11,
   "metadata": {},
   "outputs": [
    {
     "data": {
      "text/html": [
       "<ol class=list-inline>\n",
       "\t<li>5</li>\n",
       "\t<li>8</li>\n",
       "\t<li>9</li>\n",
       "</ol>\n"
      ],
      "text/latex": [
       "\\begin{enumerate*}\n",
       "\\item 5\n",
       "\\item 8\n",
       "\\item 9\n",
       "\\end{enumerate*}\n"
      ],
      "text/markdown": [
       "1. 5\n",
       "2. 8\n",
       "3. 9\n",
       "\n",
       "\n"
      ],
      "text/plain": [
       "[1] 5 8 9"
      ]
     },
     "metadata": {},
     "output_type": "display_data"
    }
   ],
   "source": [
    "c<-a[a>3]\n",
    "c"
   ]
  },
  {
   "cell_type": "markdown",
   "metadata": {},
   "source": [
    "#### Matrices\n",
    "\n",
    "Em R podemos criar uma matriz a partir de vetores. As matrices são estruturas de dados em 2 dimensões. \n",
    "\n",
    "Podemos criar a matriz especificando os valores nela, o numero de linhas e colunas e se o preenchimento sera por filas ou por colunas.\n",
    "\n",
    "Neste exemplo começamos por um vetor do 1 ao 9:"
   ]
  },
  {
   "cell_type": "code",
   "execution_count": 12,
   "metadata": {},
   "outputs": [
    {
     "data": {
      "text/html": [
       "<ol class=list-inline>\n",
       "\t<li>1</li>\n",
       "\t<li>2</li>\n",
       "\t<li>3</li>\n",
       "\t<li>4</li>\n",
       "\t<li>5</li>\n",
       "\t<li>6</li>\n",
       "\t<li>7</li>\n",
       "\t<li>8</li>\n",
       "\t<li>9</li>\n",
       "</ol>\n"
      ],
      "text/latex": [
       "\\begin{enumerate*}\n",
       "\\item 1\n",
       "\\item 2\n",
       "\\item 3\n",
       "\\item 4\n",
       "\\item 5\n",
       "\\item 6\n",
       "\\item 7\n",
       "\\item 8\n",
       "\\item 9\n",
       "\\end{enumerate*}\n"
      ],
      "text/markdown": [
       "1. 1\n",
       "2. 2\n",
       "3. 3\n",
       "4. 4\n",
       "5. 5\n",
       "6. 6\n",
       "7. 7\n",
       "8. 8\n",
       "9. 9\n",
       "\n",
       "\n"
      ],
      "text/plain": [
       "[1] 1 2 3 4 5 6 7 8 9"
      ]
     },
     "metadata": {},
     "output_type": "display_data"
    }
   ],
   "source": [
    "a <- c(1:9)\n",
    "a"
   ]
  },
  {
   "cell_type": "markdown",
   "metadata": {},
   "source": [
    "Logo declaramos ```A``` uma matriz de 3x3 componentes, preenchidas por linha, com os 9 elementos de ```a```."
   ]
  },
  {
   "cell_type": "code",
   "execution_count": 13,
   "metadata": {},
   "outputs": [
    {
     "data": {
      "text/html": [
       "<table>\n",
       "<caption>A matrix: 3 × 3 of type int</caption>\n",
       "<tbody>\n",
       "\t<tr><td>1</td><td>2</td><td>3</td></tr>\n",
       "\t<tr><td>4</td><td>5</td><td>6</td></tr>\n",
       "\t<tr><td>7</td><td>8</td><td>9</td></tr>\n",
       "</tbody>\n",
       "</table>\n"
      ],
      "text/latex": [
       "A matrix: 3 × 3 of type int\n",
       "\\begin{tabular}{lll}\n",
       "\t 1 & 2 & 3\\\\\n",
       "\t 4 & 5 & 6\\\\\n",
       "\t 7 & 8 & 9\\\\\n",
       "\\end{tabular}\n"
      ],
      "text/markdown": [
       "\n",
       "A matrix: 3 × 3 of type int\n",
       "\n",
       "| 1 | 2 | 3 |\n",
       "| 4 | 5 | 6 |\n",
       "| 7 | 8 | 9 |\n",
       "\n"
      ],
      "text/plain": [
       "     [,1] [,2] [,3]\n",
       "[1,] 1    2    3   \n",
       "[2,] 4    5    6   \n",
       "[3,] 7    8    9   "
      ]
     },
     "metadata": {},
     "output_type": "display_data"
    }
   ],
   "source": [
    "A <- matrix(a, nrow=3, ncol=3, byrow=TRUE)\n",
    "\n",
    "A"
   ]
  },
  {
   "cell_type": "markdown",
   "metadata": {},
   "source": [
    "Para accessar os elementos da matriz, usamos colchetes com o numero de linha e coluna. Por exemplo para acessar o elemento na segunda linha, terceira coluna de ```A``` fazemos:"
   ]
  },
  {
   "cell_type": "code",
   "execution_count": 14,
   "metadata": {},
   "outputs": [
    {
     "data": {
      "text/html": [
       "6"
      ],
      "text/latex": [
       "6"
      ],
      "text/markdown": [
       "6"
      ],
      "text/plain": [
       "[1] 6"
      ]
     },
     "metadata": {},
     "output_type": "display_data"
    }
   ],
   "source": [
    "A[2,3]"
   ]
  },
  {
   "cell_type": "markdown",
   "metadata": {},
   "source": [
    "Podemos acessar uma linha completa se especificamos só o primeiro número e deixamos em branco o índice das colunas, e viceversa. Por exemplo a chamada ```A[2,]``` retorna os valores da segunda linha de ```A```.  "
   ]
  },
  {
   "cell_type": "code",
   "execution_count": 15,
   "metadata": {},
   "outputs": [
    {
     "data": {
      "text/html": [
       "<ol class=list-inline>\n",
       "\t<li>4</li>\n",
       "\t<li>5</li>\n",
       "\t<li>6</li>\n",
       "</ol>\n"
      ],
      "text/latex": [
       "\\begin{enumerate*}\n",
       "\\item 4\n",
       "\\item 5\n",
       "\\item 6\n",
       "\\end{enumerate*}\n"
      ],
      "text/markdown": [
       "1. 4\n",
       "2. 5\n",
       "3. 6\n",
       "\n",
       "\n"
      ],
      "text/plain": [
       "[1] 4 5 6"
      ]
     },
     "metadata": {},
     "output_type": "display_data"
    }
   ],
   "source": [
    "A[2,]"
   ]
  },
  {
   "cell_type": "markdown",
   "metadata": {},
   "source": [
    "As matrices podem ser acessadas com condições, como foi no caso dos vetores. "
   ]
  },
  {
   "cell_type": "code",
   "execution_count": 16,
   "metadata": {},
   "outputs": [
    {
     "name": "stdout",
     "output_type": "stream",
     "text": [
      " [1] 16 21 17 22 13 18 23 14 19 24 15 20 25\n"
     ]
    }
   ],
   "source": [
    "# Criar um vetor de valores 1 a 25\n",
    "a <- c(1:25)\n",
    "\n",
    "# Criar a matriz a partir desse vetor com  5 linhas e  5 colunas, preenchendo linha por linha.\n",
    "A <- matrix(a, nrow=5, ncol=5, byrow=TRUE)\n",
    "\n",
    "\n",
    "\n",
    "# Acessar os elementos de A que sejam maiores que 12\n",
    "# ao colocar a condição \"A>12\" nos colchetes\n",
    "# a variável nova é um vetor.\n",
    "C<-A[A>12]\n",
    "\n",
    "print(C)"
   ]
  },
  {
   "cell_type": "code",
   "execution_count": 17,
   "metadata": {},
   "outputs": [
    {
     "data": {
      "text/html": [
       "13"
      ],
      "text/latex": [
       "13"
      ],
      "text/markdown": [
       "13"
      ],
      "text/plain": [
       "[1] 13"
      ]
     },
     "metadata": {},
     "output_type": "display_data"
    }
   ],
   "source": [
    "length(C)\n"
   ]
  },
  {
   "cell_type": "markdown",
   "metadata": {},
   "source": [
    "#### Arrays (Arranjos)\n",
    "\n",
    "Arrays são similares às matrices, mas podem ter mais de duas dimensões. \n",
    "\n",
    "Podem ser criadas, como as matrices, a partir de um vetor e especificando as dimensões escolhidas."
   ]
  },
  {
   "cell_type": "code",
   "execution_count": 18,
   "metadata": {},
   "outputs": [
    {
     "name": "stdout",
     "output_type": "stream",
     "text": [
      ", , 1\n",
      "\n",
      "     [,1] [,2] [,3]\n",
      "[1,]    1    4    7\n",
      "[2,]    2    5    8\n",
      "[3,]    3    6    9\n",
      "\n",
      ", , 2\n",
      "\n",
      "     [,1] [,2] [,3]\n",
      "[1,]   10   13   16\n",
      "[2,]   11   14   17\n",
      "[3,]   12   15   18\n",
      "\n",
      ", , 3\n",
      "\n",
      "     [,1] [,2] [,3]\n",
      "[1,]   19   22   25\n",
      "[2,]   20   23   26\n",
      "[3,]   21   24   27\n",
      "\n"
     ]
    }
   ],
   "source": [
    "# Criar um vetor com valores 1 a 27\n",
    "a <- c(1:27)\n",
    "\n",
    "# Criar um array a partir do vetor a\n",
    "# que contem 3 matrices de 3 linhas e 3 colunas .\n",
    "A <- array(a, dim=c(3,3,3))\n",
    "\n",
    "# Imprimir o array.\n",
    "print(A)"
   ]
  },
  {
   "cell_type": "markdown",
   "metadata": {},
   "source": [
    "#### Listas\n",
    "\n",
    "As listas são como  vetores, mas podem conter diferentes tipos de dados concomitantemente, e também vetores, entre seus elementos. "
   ]
  },
  {
   "cell_type": "code",
   "execution_count": 19,
   "metadata": {},
   "outputs": [
    {
     "data": {
      "text/html": [
       "<ol>\n",
       "\t<li><ol class=list-inline>\n",
       "\t<li>1</li>\n",
       "\t<li>2</li>\n",
       "\t<li>3</li>\n",
       "</ol>\n",
       "</li>\n",
       "\t<li>'a'</li>\n",
       "\t<li>1</li>\n",
       "\t<li>1+5i</li>\n",
       "</ol>\n"
      ],
      "text/latex": [
       "\\begin{enumerate}\n",
       "\\item \\begin{enumerate*}\n",
       "\\item 1\n",
       "\\item 2\n",
       "\\item 3\n",
       "\\end{enumerate*}\n",
       "\n",
       "\\item 'a'\n",
       "\\item 1\n",
       "\\item 1+5i\n",
       "\\end{enumerate}\n"
      ],
      "text/markdown": [
       "1. 1. 1\n",
       "2. 2\n",
       "3. 3\n",
       "\n",
       "\n",
       "\n",
       "2. 'a'\n",
       "3. 1\n",
       "4. 1+5i\n",
       "\n",
       "\n"
      ],
      "text/plain": [
       "[[1]]\n",
       "[1] 1 2 3\n",
       "\n",
       "[[2]]\n",
       "[1] \"a\"\n",
       "\n",
       "[[3]]\n",
       "[1] 1\n",
       "\n",
       "[[4]]\n",
       "[1] 1+5i\n"
      ]
     },
     "metadata": {},
     "output_type": "display_data"
    }
   ],
   "source": [
    "l <- list(c(1,2,3),'a', 1, 1+5i)\n",
    "\n",
    "l"
   ]
  },
  {
   "cell_type": "markdown",
   "metadata": {},
   "source": [
    "#### Data Frames\n",
    "\n",
    "\n",
    "Data  frames  são como listas de vetores com o mesmo comprimento. São usados para armazenar dados em forma de tabela. \n",
    "\n",
    "Para criar um data frame podemos fazer, por exemplo:\n"
   ]
  },
  {
   "cell_type": "code",
   "execution_count": 20,
   "metadata": {},
   "outputs": [
    {
     "data": {
      "text/html": [
       "<table>\n",
       "<caption>A data.frame: 2 × 3</caption>\n",
       "<thead>\n",
       "\t<tr><th scope=col>Nome</th><th scope=col>Genero</th><th scope=col>Idade</th></tr>\n",
       "\t<tr><th scope=col>&lt;fct&gt;</th><th scope=col>&lt;fct&gt;</th><th scope=col>&lt;dbl&gt;</th></tr>\n",
       "</thead>\n",
       "<tbody>\n",
       "\t<tr><td>Thereza</td><td>F</td><td>20</td></tr>\n",
       "\t<tr><td>Diana  </td><td>F</td><td>23</td></tr>\n",
       "</tbody>\n",
       "</table>\n"
      ],
      "text/latex": [
       "A data.frame: 2 × 3\n",
       "\\begin{tabular}{r|lll}\n",
       " Nome & Genero & Idade\\\\\n",
       " <fct> & <fct> & <dbl>\\\\\n",
       "\\hline\n",
       "\t Thereza & F & 20\\\\\n",
       "\t Diana   & F & 23\\\\\n",
       "\\end{tabular}\n"
      ],
      "text/markdown": [
       "\n",
       "A data.frame: 2 × 3\n",
       "\n",
       "| Nome &lt;fct&gt; | Genero &lt;fct&gt; | Idade &lt;dbl&gt; |\n",
       "|---|---|---|\n",
       "| Thereza | F | 20 |\n",
       "| Diana   | F | 23 |\n",
       "\n"
      ],
      "text/plain": [
       "  Nome    Genero Idade\n",
       "1 Thereza F      20   \n",
       "2 Diana   F      23   "
      ]
     },
     "metadata": {},
     "output_type": "display_data"
    }
   ],
   "source": [
    "data <- data.frame(\n",
    "    Nome = c(\"Thereza\", \"Diana\"),\n",
    "    Genero = c('F','F'),\n",
    "    Idade = c(20, 23)\n",
    ")\n",
    "\n",
    "data"
   ]
  },
  {
   "cell_type": "markdown",
   "metadata": {},
   "source": [
    "(Para mim, aqui reside a beleza do R  ... essa simplicidade!)\n",
    "\n",
    "Para acessar uma coluna em particular, é simplesmente usar o ```$``` e o nome da coluna. \n",
    "Por exemplo para ver os nomes:"
   ]
  },
  {
   "cell_type": "code",
   "execution_count": 21,
   "metadata": {},
   "outputs": [
    {
     "data": {
      "text/html": [
       "<ol class=list-inline>\n",
       "\t<li>Thereza</li>\n",
       "\t<li>Diana</li>\n",
       "</ol>\n",
       "\n",
       "<details>\n",
       "\t<summary style=display:list-item;cursor:pointer>\n",
       "\t\t<strong>Levels</strong>:\n",
       "\t</summary>\n",
       "\t<ol class=list-inline>\n",
       "\t\t<li>'Diana'</li>\n",
       "\t\t<li>'Thereza'</li>\n",
       "\t</ol>\n",
       "</details>"
      ],
      "text/latex": [
       "\\begin{enumerate*}\n",
       "\\item Thereza\n",
       "\\item Diana\n",
       "\\end{enumerate*}\n",
       "\n",
       "\\emph{Levels}: \\begin{enumerate*}\n",
       "\\item 'Diana'\n",
       "\\item 'Thereza'\n",
       "\\end{enumerate*}\n"
      ],
      "text/markdown": [
       "1. Thereza\n",
       "2. Diana\n",
       "\n",
       "\n",
       "\n",
       "**Levels**: 1. 'Diana'\n",
       "2. 'Thereza'\n",
       "\n",
       "\n"
      ],
      "text/plain": [
       "[1] Thereza Diana  \n",
       "Levels: Diana Thereza"
      ]
     },
     "metadata": {},
     "output_type": "display_data"
    }
   ],
   "source": [
    "data$Nome"
   ]
  },
  {
   "cell_type": "markdown",
   "metadata": {},
   "source": [
    "Se queremos ver só uma linha (instância ou observação do seu experimento, medição) chamamos o número da linha"
   ]
  },
  {
   "cell_type": "code",
   "execution_count": 22,
   "metadata": {},
   "outputs": [
    {
     "data": {
      "text/html": [
       "<table>\n",
       "<caption>A data.frame: 1 × 3</caption>\n",
       "<thead>\n",
       "\t<tr><th scope=col>Nome</th><th scope=col>Genero</th><th scope=col>Idade</th></tr>\n",
       "\t<tr><th scope=col>&lt;fct&gt;</th><th scope=col>&lt;fct&gt;</th><th scope=col>&lt;dbl&gt;</th></tr>\n",
       "</thead>\n",
       "<tbody>\n",
       "\t<tr><td>Thereza</td><td>F</td><td>20</td></tr>\n",
       "</tbody>\n",
       "</table>\n"
      ],
      "text/latex": [
       "A data.frame: 1 × 3\n",
       "\\begin{tabular}{r|lll}\n",
       " Nome & Genero & Idade\\\\\n",
       " <fct> & <fct> & <dbl>\\\\\n",
       "\\hline\n",
       "\t Thereza & F & 20\\\\\n",
       "\\end{tabular}\n"
      ],
      "text/markdown": [
       "\n",
       "A data.frame: 1 × 3\n",
       "\n",
       "| Nome &lt;fct&gt; | Genero &lt;fct&gt; | Idade &lt;dbl&gt; |\n",
       "|---|---|---|\n",
       "| Thereza | F | 20 |\n",
       "\n"
      ],
      "text/plain": [
       "  Nome    Genero Idade\n",
       "1 Thereza F      20   "
      ]
     },
     "metadata": {},
     "output_type": "display_data"
    }
   ],
   "source": [
    "data[1,]"
   ]
  },
  {
   "cell_type": "markdown",
   "metadata": {},
   "source": [
    "E R tem várias funções para importar arquivos (em formato texto, csv, até xls!) direto para data frames. \n",
    "\n",
    "Como não amar?"
   ]
  },
  {
   "cell_type": "markdown",
   "metadata": {},
   "source": [
    "## Explorando o CMS Open Data\n",
    "\n",
    "\n",
    "Agora vamos à tarefa em mãos: analisar dados do CMS.\n",
    "\n",
    "---\n",
    "\n",
    "### Importar dados dos arquivos CSV \n",
    "\n",
    "No portal do [CERN Open Data](http://opendata.cern.ch) tem vários conjuntos de dados disponíveis. Nós vamos usar dados que já foram reduzidos ao formato CSV (comma-separated values), importá-los em R e analizar seu conteúdo. \n",
    "\n",
    "Os dados desse tutorial vêm do seguinte registro: [http://opendata.cern.ch/record/545](http://opendata.cern.ch/record/545)\n",
    "\n",
    "Para importar usamos o seguinte comando:"
   ]
  },
  {
   "cell_type": "code",
   "execution_count": 23,
   "metadata": {},
   "outputs": [],
   "source": [
    "mumu <- read.csv(\"http://opendata.cern.ch/record/545/files/Dimuon_DoubleMu.csv\")"
   ]
  },
  {
   "cell_type": "markdown",
   "metadata": {},
   "source": [
    "O comando anterior carregou os dados do arquivo  `Dimuon_DoubleMu.csv` numa variável chamada `mumu`, que é um data frame. \n",
    "\n",
    "Para olhar o conteúdo das primeiras 6 linhas podemos chamar a função `head` e para saber o número de observações usamos a função `nrow`"
   ]
  },
  {
   "cell_type": "code",
   "execution_count": 24,
   "metadata": {},
   "outputs": [
    {
     "data": {
      "text/html": [
       "100000"
      ],
      "text/latex": [
       "100000"
      ],
      "text/markdown": [
       "100000"
      ],
      "text/plain": [
       "[1] 100000"
      ]
     },
     "metadata": {},
     "output_type": "display_data"
    },
    {
     "data": {
      "text/html": [
       "<table>\n",
       "<caption>A data.frame: 6 × 21</caption>\n",
       "<thead>\n",
       "\t<tr><th scope=col>Run</th><th scope=col>Event</th><th scope=col>type1</th><th scope=col>E1</th><th scope=col>px1</th><th scope=col>py1</th><th scope=col>pz1</th><th scope=col>pt1</th><th scope=col>eta1</th><th scope=col>phi1</th><th scope=col>⋯</th><th scope=col>type2</th><th scope=col>E2</th><th scope=col>px2</th><th scope=col>py2</th><th scope=col>pz2</th><th scope=col>pt2</th><th scope=col>eta2</th><th scope=col>phi2</th><th scope=col>Q2</th><th scope=col>M</th></tr>\n",
       "\t<tr><th scope=col>&lt;int&gt;</th><th scope=col>&lt;int&gt;</th><th scope=col>&lt;fct&gt;</th><th scope=col>&lt;dbl&gt;</th><th scope=col>&lt;dbl&gt;</th><th scope=col>&lt;dbl&gt;</th><th scope=col>&lt;dbl&gt;</th><th scope=col>&lt;dbl&gt;</th><th scope=col>&lt;dbl&gt;</th><th scope=col>&lt;dbl&gt;</th><th scope=col>⋯</th><th scope=col>&lt;fct&gt;</th><th scope=col>&lt;dbl&gt;</th><th scope=col>&lt;dbl&gt;</th><th scope=col>&lt;dbl&gt;</th><th scope=col>&lt;dbl&gt;</th><th scope=col>&lt;dbl&gt;</th><th scope=col>&lt;dbl&gt;</th><th scope=col>&lt;dbl&gt;</th><th scope=col>&lt;int&gt;</th><th scope=col>&lt;dbl&gt;</th></tr>\n",
       "</thead>\n",
       "<tbody>\n",
       "\t<tr><td>165617</td><td>74601703</td><td>G</td><td> 9.6987</td><td>-9.5104</td><td>  0.3662</td><td> 1.8633</td><td> 9.5175</td><td> 0.1945</td><td> 3.1031</td><td>⋯</td><td>G</td><td>9.7633</td><td> 7.3277</td><td>-1.1524</td><td> 6.3473</td><td>7.4178</td><td> 0.7756</td><td>-0.1560</td><td>1</td><td>17.4922</td></tr>\n",
       "\t<tr><td>165617</td><td>75100943</td><td>G</td><td> 6.2039</td><td>-4.2666</td><td>  0.4565</td><td>-4.4793</td><td> 4.2910</td><td>-0.9121</td><td> 3.0350</td><td>⋯</td><td>G</td><td>9.6690</td><td> 7.2740</td><td>-2.8211</td><td>-5.7104</td><td>7.8019</td><td>-0.6786</td><td>-0.3700</td><td>1</td><td>11.5534</td></tr>\n",
       "\t<tr><td>165617</td><td>75587682</td><td>G</td><td>19.2892</td><td>-4.2121</td><td> -0.6516</td><td>18.8121</td><td> 4.2622</td><td> 2.1905</td><td>-2.9881</td><td>⋯</td><td>G</td><td>9.8244</td><td> 4.3439</td><td>-0.4735</td><td> 8.7985</td><td>4.3697</td><td> 1.4497</td><td>-0.1086</td><td>1</td><td> 9.1636</td></tr>\n",
       "\t<tr><td>165617</td><td>75660978</td><td>G</td><td> 7.0427</td><td>-6.3268</td><td> -0.2685</td><td> 3.0802</td><td> 6.3325</td><td> 0.4690</td><td>-3.0992</td><td>⋯</td><td>G</td><td>5.5857</td><td> 4.4748</td><td> 0.8489</td><td>-3.2319</td><td>4.5546</td><td>-0.6605</td><td> 0.1875</td><td>1</td><td>12.4774</td></tr>\n",
       "\t<tr><td>165617</td><td>75947690</td><td>G</td><td> 7.2751</td><td> 0.1030</td><td> -5.5331</td><td>-4.7212</td><td> 5.5340</td><td>-0.7736</td><td>-1.5522</td><td>⋯</td><td>G</td><td>7.3181</td><td>-0.3988</td><td> 6.9408</td><td> 2.2825</td><td>6.9523</td><td> 0.3227</td><td> 1.6282</td><td>1</td><td>14.3159</td></tr>\n",
       "\t<tr><td>165617</td><td>74570517</td><td>G</td><td>14.9422</td><td>-9.1744</td><td>-10.3203</td><td>-5.7079</td><td>13.8087</td><td>-0.4024</td><td>-2.2975</td><td>⋯</td><td>T</td><td>2.9879</td><td>-0.9862</td><td> 0.3541</td><td>-2.7962</td><td>1.0479</td><td>-1.7080</td><td> 2.7969</td><td>1</td><td> 6.8270</td></tr>\n",
       "</tbody>\n",
       "</table>\n"
      ],
      "text/latex": [
       "A data.frame: 6 × 21\n",
       "\\begin{tabular}{r|lllllllllllllllllllll}\n",
       " Run & Event & type1 & E1 & px1 & py1 & pz1 & pt1 & eta1 & phi1 & Q1 & type2 & E2 & px2 & py2 & pz2 & pt2 & eta2 & phi2 & Q2 & M\\\\\n",
       " <int> & <int> & <fct> & <dbl> & <dbl> & <dbl> & <dbl> & <dbl> & <dbl> & <dbl> & <int> & <fct> & <dbl> & <dbl> & <dbl> & <dbl> & <dbl> & <dbl> & <dbl> & <int> & <dbl>\\\\\n",
       "\\hline\n",
       "\t 165617 & 74601703 & G &  9.6987 & -9.5104 &   0.3662 &  1.8633 &  9.5175 &  0.1945 &  3.1031 & -1 & G & 9.7633 &  7.3277 & -1.1524 &  6.3473 & 7.4178 &  0.7756 & -0.1560 & 1 & 17.4922\\\\\n",
       "\t 165617 & 75100943 & G &  6.2039 & -4.2666 &   0.4565 & -4.4793 &  4.2910 & -0.9121 &  3.0350 & -1 & G & 9.6690 &  7.2740 & -2.8211 & -5.7104 & 7.8019 & -0.6786 & -0.3700 & 1 & 11.5534\\\\\n",
       "\t 165617 & 75587682 & G & 19.2892 & -4.2121 &  -0.6516 & 18.8121 &  4.2622 &  2.1905 & -2.9881 & -1 & G & 9.8244 &  4.3439 & -0.4735 &  8.7985 & 4.3697 &  1.4497 & -0.1086 & 1 &  9.1636\\\\\n",
       "\t 165617 & 75660978 & G &  7.0427 & -6.3268 &  -0.2685 &  3.0802 &  6.3325 &  0.4690 & -3.0992 & -1 & G & 5.5857 &  4.4748 &  0.8489 & -3.2319 & 4.5546 & -0.6605 &  0.1875 & 1 & 12.4774\\\\\n",
       "\t 165617 & 75947690 & G &  7.2751 &  0.1030 &  -5.5331 & -4.7212 &  5.5340 & -0.7736 & -1.5522 & -1 & G & 7.3181 & -0.3988 &  6.9408 &  2.2825 & 6.9523 &  0.3227 &  1.6282 & 1 & 14.3159\\\\\n",
       "\t 165617 & 74570517 & G & 14.9422 & -9.1744 & -10.3203 & -5.7079 & 13.8087 & -0.4024 & -2.2975 & -1 & T & 2.9879 & -0.9862 &  0.3541 & -2.7962 & 1.0479 & -1.7080 &  2.7969 & 1 &  6.8270\\\\\n",
       "\\end{tabular}\n"
      ],
      "text/markdown": [
       "\n",
       "A data.frame: 6 × 21\n",
       "\n",
       "| Run &lt;int&gt; | Event &lt;int&gt; | type1 &lt;fct&gt; | E1 &lt;dbl&gt; | px1 &lt;dbl&gt; | py1 &lt;dbl&gt; | pz1 &lt;dbl&gt; | pt1 &lt;dbl&gt; | eta1 &lt;dbl&gt; | phi1 &lt;dbl&gt; | ⋯ ⋯ | type2 &lt;fct&gt; | E2 &lt;dbl&gt; | px2 &lt;dbl&gt; | py2 &lt;dbl&gt; | pz2 &lt;dbl&gt; | pt2 &lt;dbl&gt; | eta2 &lt;dbl&gt; | phi2 &lt;dbl&gt; | Q2 &lt;int&gt; | M &lt;dbl&gt; |\n",
       "|---|---|---|---|---|---|---|---|---|---|---|---|---|---|---|---|---|---|---|---|---|\n",
       "| 165617 | 74601703 | G |  9.6987 | -9.5104 |   0.3662 |  1.8633 |  9.5175 |  0.1945 |  3.1031 | ⋯ | G | 9.7633 |  7.3277 | -1.1524 |  6.3473 | 7.4178 |  0.7756 | -0.1560 | 1 | 17.4922 |\n",
       "| 165617 | 75100943 | G |  6.2039 | -4.2666 |   0.4565 | -4.4793 |  4.2910 | -0.9121 |  3.0350 | ⋯ | G | 9.6690 |  7.2740 | -2.8211 | -5.7104 | 7.8019 | -0.6786 | -0.3700 | 1 | 11.5534 |\n",
       "| 165617 | 75587682 | G | 19.2892 | -4.2121 |  -0.6516 | 18.8121 |  4.2622 |  2.1905 | -2.9881 | ⋯ | G | 9.8244 |  4.3439 | -0.4735 |  8.7985 | 4.3697 |  1.4497 | -0.1086 | 1 |  9.1636 |\n",
       "| 165617 | 75660978 | G |  7.0427 | -6.3268 |  -0.2685 |  3.0802 |  6.3325 |  0.4690 | -3.0992 | ⋯ | G | 5.5857 |  4.4748 |  0.8489 | -3.2319 | 4.5546 | -0.6605 |  0.1875 | 1 | 12.4774 |\n",
       "| 165617 | 75947690 | G |  7.2751 |  0.1030 |  -5.5331 | -4.7212 |  5.5340 | -0.7736 | -1.5522 | ⋯ | G | 7.3181 | -0.3988 |  6.9408 |  2.2825 | 6.9523 |  0.3227 |  1.6282 | 1 | 14.3159 |\n",
       "| 165617 | 74570517 | G | 14.9422 | -9.1744 | -10.3203 | -5.7079 | 13.8087 | -0.4024 | -2.2975 | ⋯ | T | 2.9879 | -0.9862 |  0.3541 | -2.7962 | 1.0479 | -1.7080 |  2.7969 | 1 |  6.8270 |\n",
       "\n"
      ],
      "text/plain": [
       "  Run    Event    type1 E1      px1     py1      pz1     pt1     eta1   \n",
       "1 165617 74601703 G      9.6987 -9.5104   0.3662  1.8633  9.5175  0.1945\n",
       "2 165617 75100943 G      6.2039 -4.2666   0.4565 -4.4793  4.2910 -0.9121\n",
       "3 165617 75587682 G     19.2892 -4.2121  -0.6516 18.8121  4.2622  2.1905\n",
       "4 165617 75660978 G      7.0427 -6.3268  -0.2685  3.0802  6.3325  0.4690\n",
       "5 165617 75947690 G      7.2751  0.1030  -5.5331 -4.7212  5.5340 -0.7736\n",
       "6 165617 74570517 G     14.9422 -9.1744 -10.3203 -5.7079 13.8087 -0.4024\n",
       "  phi1    <U+22EF>   type2 E2     px2     py2     pz2     pt2    eta2    phi2   \n",
       "1  3.1031 <U+22EF> G     9.7633  7.3277 -1.1524  6.3473 7.4178  0.7756 -0.1560\n",
       "2  3.0350 <U+22EF> G     9.6690  7.2740 -2.8211 -5.7104 7.8019 -0.6786 -0.3700\n",
       "3 -2.9881 <U+22EF> G     9.8244  4.3439 -0.4735  8.7985 4.3697  1.4497 -0.1086\n",
       "4 -3.0992 <U+22EF> G     5.5857  4.4748  0.8489 -3.2319 4.5546 -0.6605  0.1875\n",
       "5 -1.5522 <U+22EF> G     7.3181 -0.3988  6.9408  2.2825 6.9523  0.3227  1.6282\n",
       "6 -2.2975 <U+22EF> T     2.9879 -0.9862  0.3541 -2.7962 1.0479 -1.7080  2.7969\n",
       "  Q2 M      \n",
       "1 1  17.4922\n",
       "2 1  11.5534\n",
       "3 1   9.1636\n",
       "4 1  12.4774\n",
       "5 1  14.3159\n",
       "6 1   6.8270"
      ]
     },
     "metadata": {},
     "output_type": "display_data"
    }
   ],
   "source": [
    "nrow(mumu)\n",
    "head(mumu)"
   ]
  },
  {
   "cell_type": "markdown",
   "metadata": {},
   "source": [
    "O nosso conjunto de dados tem 100 mil linhas (cada linha é um evento de colisão) e 21 colunas (cada coluna é uma variável da descrição ou das medições dos produtos finais do evento).\n",
    "\n",
    "\n",
    "Nesse ponto já podemos chamar o *tidyverse*. Para ter uma visualização mais \"agradável\" dos dados podemos mudar de data frame para *tibble*."
   ]
  },
  {
   "cell_type": "code",
   "execution_count": 25,
   "metadata": {},
   "outputs": [
    {
     "name": "stderr",
     "output_type": "stream",
     "text": [
      "Loading required package: tidyverse\n",
      "Warning message in as.POSIXlt.POSIXct(Sys.time()):\n",
      "\"unknown timezone 'zone/tz/2019b.1.0/zoneinfo/America/Sao_Paulo'\"-- \u001b[1mAttaching packages\u001b[22m --------------------------------------- tidyverse 1.2.1 --\n",
      "\u001b[32mv\u001b[39m \u001b[34mggplot2\u001b[39m 3.2.1     \u001b[32mv\u001b[39m \u001b[34mpurrr  \u001b[39m 0.3.3\n",
      "\u001b[32mv\u001b[39m \u001b[34mtibble \u001b[39m 2.1.3     \u001b[32mv\u001b[39m \u001b[34mdplyr  \u001b[39m 0.8.3\n",
      "\u001b[32mv\u001b[39m \u001b[34mtidyr  \u001b[39m 1.0.0     \u001b[32mv\u001b[39m \u001b[34mstringr\u001b[39m 1.4.0\n",
      "\u001b[32mv\u001b[39m \u001b[34mreadr  \u001b[39m 1.1.1     \u001b[32mv\u001b[39m \u001b[34mforcats\u001b[39m 0.4.0\n",
      "-- \u001b[1mConflicts\u001b[22m ------------------------------------------ tidyverse_conflicts() --\n",
      "\u001b[31mx\u001b[39m \u001b[34mdplyr\u001b[39m::\u001b[32mfilter()\u001b[39m masks \u001b[34mstats\u001b[39m::filter()\n",
      "\u001b[31mx\u001b[39m \u001b[34mdplyr\u001b[39m::\u001b[32mlag()\u001b[39m    masks \u001b[34mstats\u001b[39m::lag()\n"
     ]
    }
   ],
   "source": [
    "require(tidyverse)\n",
    "tbmumu<- mumu %>% as_tibble()"
   ]
  },
  {
   "cell_type": "markdown",
   "metadata": {},
   "source": [
    "O tidyverse inclui o pacote `magrittr`,  que introduz o operador *pipe* (como tubulação, mas também \"ce ci n'est pas une pipe\") com símbolo `%>%` o que entrega o objeto da esquerda como argumento à função da direita. E com esses encanamentos é possível fazer várias operações sucessivas de forma concisa.\n",
    "\n",
    "Então o código acima aplica a função `as_tibble` ao data frame `mumu` e o resultado (que é um *tibble*) é armazenado na variável `tbmumu`.\n",
    "\n",
    "Logo ao imprimir as primeiras 6 linhas da nossa tabela tipo *tibble* temos uma visualização que: \n",
    "\n",
    "   * cabe na tela\n",
    "   * dá informações sobre aquilo que não coube\n",
    "   "
   ]
  },
  {
   "cell_type": "code",
   "execution_count": 26,
   "metadata": {},
   "outputs": [
    {
     "name": "stdout",
     "output_type": "stream",
     "text": [
      "\u001b[38;5;246m# A tibble: 6 x 21\u001b[39m\n",
      "     Run  Event type1    E1    px1     py1   pz1   pt1   eta1  phi1    Q1 type2\n",
      "   \u001b[3m\u001b[38;5;246m<int>\u001b[39m\u001b[23m  \u001b[3m\u001b[38;5;246m<int>\u001b[39m\u001b[23m \u001b[3m\u001b[38;5;246m<fct>\u001b[39m\u001b[23m \u001b[3m\u001b[38;5;246m<dbl>\u001b[39m\u001b[23m  \u001b[3m\u001b[38;5;246m<dbl>\u001b[39m\u001b[23m   \u001b[3m\u001b[38;5;246m<dbl>\u001b[39m\u001b[23m \u001b[3m\u001b[38;5;246m<dbl>\u001b[39m\u001b[23m \u001b[3m\u001b[38;5;246m<dbl>\u001b[39m\u001b[23m  \u001b[3m\u001b[38;5;246m<dbl>\u001b[39m\u001b[23m \u001b[3m\u001b[38;5;246m<dbl>\u001b[39m\u001b[23m \u001b[3m\u001b[38;5;246m<int>\u001b[39m\u001b[23m \u001b[3m\u001b[38;5;246m<fct>\u001b[39m\u001b[23m\n",
      "\u001b[38;5;250m1\u001b[39m \u001b[4m1\u001b[24m\u001b[4m6\u001b[24m\u001b[4m5\u001b[24m617 7.46\u001b[38;5;246me\u001b[39m7 G      9.70 -\u001b[31m9\u001b[39m\u001b[31m.\u001b[39m\u001b[31m51\u001b[39m    0.366  1.86  9.52  0.194  3.10    -\u001b[31m1\u001b[39m G    \n",
      "\u001b[38;5;250m2\u001b[39m \u001b[4m1\u001b[24m\u001b[4m6\u001b[24m\u001b[4m5\u001b[24m617 7.51\u001b[38;5;246me\u001b[39m7 G      6.20 -\u001b[31m4\u001b[39m\u001b[31m.\u001b[39m\u001b[31m27\u001b[39m    0.456 -\u001b[31m4\u001b[39m\u001b[31m.\u001b[39m\u001b[31m48\u001b[39m  4.29 -\u001b[31m0\u001b[39m\u001b[31m.\u001b[39m\u001b[31m912\u001b[39m  3.04    -\u001b[31m1\u001b[39m G    \n",
      "\u001b[38;5;250m3\u001b[39m \u001b[4m1\u001b[24m\u001b[4m6\u001b[24m\u001b[4m5\u001b[24m617 7.56\u001b[38;5;246me\u001b[39m7 G     19.3  -\u001b[31m4\u001b[39m\u001b[31m.\u001b[39m\u001b[31m21\u001b[39m   -\u001b[31m0\u001b[39m\u001b[31m.\u001b[39m\u001b[31m652\u001b[39m 18.8   4.26  2.19  -\u001b[31m2\u001b[39m\u001b[31m.\u001b[39m\u001b[31m99\u001b[39m    -\u001b[31m1\u001b[39m G    \n",
      "\u001b[38;5;250m4\u001b[39m \u001b[4m1\u001b[24m\u001b[4m6\u001b[24m\u001b[4m5\u001b[24m617 7.57\u001b[38;5;246me\u001b[39m7 G      7.04 -\u001b[31m6\u001b[39m\u001b[31m.\u001b[39m\u001b[31m33\u001b[39m   -\u001b[31m0\u001b[39m\u001b[31m.\u001b[39m\u001b[31m268\u001b[39m  3.08  6.33  0.469 -\u001b[31m3\u001b[39m\u001b[31m.\u001b[39m\u001b[31m10\u001b[39m    -\u001b[31m1\u001b[39m G    \n",
      "\u001b[38;5;250m5\u001b[39m \u001b[4m1\u001b[24m\u001b[4m6\u001b[24m\u001b[4m5\u001b[24m617 7.59\u001b[38;5;246me\u001b[39m7 G      7.28  0.103  -\u001b[31m5\u001b[39m\u001b[31m.\u001b[39m\u001b[31m53\u001b[39m  -\u001b[31m4\u001b[39m\u001b[31m.\u001b[39m\u001b[31m72\u001b[39m  5.53 -\u001b[31m0\u001b[39m\u001b[31m.\u001b[39m\u001b[31m774\u001b[39m -\u001b[31m1\u001b[39m\u001b[31m.\u001b[39m\u001b[31m55\u001b[39m    -\u001b[31m1\u001b[39m G    \n",
      "\u001b[38;5;250m6\u001b[39m \u001b[4m1\u001b[24m\u001b[4m6\u001b[24m\u001b[4m5\u001b[24m617 7.46\u001b[38;5;246me\u001b[39m7 G     14.9  -\u001b[31m9\u001b[39m\u001b[31m.\u001b[39m\u001b[31m17\u001b[39m  -\u001b[31m10\u001b[39m\u001b[31m.\u001b[39m\u001b[31m3\u001b[39m   -\u001b[31m5\u001b[39m\u001b[31m.\u001b[39m\u001b[31m71\u001b[39m 13.8  -\u001b[31m0\u001b[39m\u001b[31m.\u001b[39m\u001b[31m402\u001b[39m -\u001b[31m2\u001b[39m\u001b[31m.\u001b[39m\u001b[31m30\u001b[39m    -\u001b[31m1\u001b[39m T    \n",
      "\u001b[38;5;246m# ... with 9 more variables: E2 \u001b[3m\u001b[38;5;246m<dbl>\u001b[38;5;246m\u001b[23m, px2 \u001b[3m\u001b[38;5;246m<dbl>\u001b[38;5;246m\u001b[23m, py2 \u001b[3m\u001b[38;5;246m<dbl>\u001b[38;5;246m\u001b[23m, pz2 \u001b[3m\u001b[38;5;246m<dbl>\u001b[38;5;246m\u001b[23m,\n",
      "#   pt2 \u001b[3m\u001b[38;5;246m<dbl>\u001b[38;5;246m\u001b[23m, eta2 \u001b[3m\u001b[38;5;246m<dbl>\u001b[38;5;246m\u001b[23m, phi2 \u001b[3m\u001b[38;5;246m<dbl>\u001b[38;5;246m\u001b[23m, Q2 \u001b[3m\u001b[38;5;246m<int>\u001b[38;5;246m\u001b[23m, M \u001b[3m\u001b[38;5;246m<dbl>\u001b[38;5;246m\u001b[23m\u001b[39m\n"
     ]
    }
   ],
   "source": [
    "print(head(tbmumu))"
   ]
  },
  {
   "cell_type": "markdown",
   "metadata": {},
   "source": [
    "Do output acima podemos ver as primeiras 12 colunas, com seus tipos, com cores para valores negativos, e temos a informação adicional de 9 variáveis não mostradas. Podemos acessar as colunas e linhas da mesma forma do data frame."
   ]
  },
  {
   "cell_type": "code",
   "execution_count": 27,
   "metadata": {},
   "outputs": [
    {
     "name": "stdout",
     "output_type": "stream",
     "text": [
      "[1]  9.6987  6.2039 19.2892  7.0427  7.2751 14.9422\n"
     ]
    }
   ],
   "source": [
    "# imprime os primeiros 6 elementos da coluna chamada E1\n",
    "# o que é retornado com esse operador é um vetor\n",
    "print(head(tbmumu$E1))"
   ]
  },
  {
   "cell_type": "code",
   "execution_count": 28,
   "metadata": {},
   "outputs": [
    {
     "name": "stdout",
     "output_type": "stream",
     "text": [
      "\u001b[38;5;246m# A tibble: 1 x 21\u001b[39m\n",
      "     Run  Event type1    E1   px1   py1   pz1   pt1  eta1  phi1    Q1 type2\n",
      "   \u001b[3m\u001b[38;5;246m<int>\u001b[39m\u001b[23m  \u001b[3m\u001b[38;5;246m<int>\u001b[39m\u001b[23m \u001b[3m\u001b[38;5;246m<fct>\u001b[39m\u001b[23m \u001b[3m\u001b[38;5;246m<dbl>\u001b[39m\u001b[23m \u001b[3m\u001b[38;5;246m<dbl>\u001b[39m\u001b[23m \u001b[3m\u001b[38;5;246m<dbl>\u001b[39m\u001b[23m \u001b[3m\u001b[38;5;246m<dbl>\u001b[39m\u001b[23m \u001b[3m\u001b[38;5;246m<dbl>\u001b[39m\u001b[23m \u001b[3m\u001b[38;5;246m<dbl>\u001b[39m\u001b[23m \u001b[3m\u001b[38;5;246m<dbl>\u001b[39m\u001b[23m \u001b[3m\u001b[38;5;246m<int>\u001b[39m\u001b[23m \u001b[3m\u001b[38;5;246m<fct>\u001b[39m\u001b[23m\n",
      "\u001b[38;5;250m1\u001b[39m \u001b[4m1\u001b[24m\u001b[4m6\u001b[24m\u001b[4m5\u001b[24m617 7.46\u001b[38;5;246me\u001b[39m7 G      9.70 -\u001b[31m9\u001b[39m\u001b[31m.\u001b[39m\u001b[31m51\u001b[39m 0.366  1.86  9.52 0.194  3.10    -\u001b[31m1\u001b[39m G    \n",
      "\u001b[38;5;246m# ... with 9 more variables: E2 \u001b[3m\u001b[38;5;246m<dbl>\u001b[38;5;246m\u001b[23m, px2 \u001b[3m\u001b[38;5;246m<dbl>\u001b[38;5;246m\u001b[23m, py2 \u001b[3m\u001b[38;5;246m<dbl>\u001b[38;5;246m\u001b[23m, pz2 \u001b[3m\u001b[38;5;246m<dbl>\u001b[38;5;246m\u001b[23m,\n",
      "#   pt2 \u001b[3m\u001b[38;5;246m<dbl>\u001b[38;5;246m\u001b[23m, eta2 \u001b[3m\u001b[38;5;246m<dbl>\u001b[38;5;246m\u001b[23m, phi2 \u001b[3m\u001b[38;5;246m<dbl>\u001b[38;5;246m\u001b[23m, Q2 \u001b[3m\u001b[38;5;246m<int>\u001b[38;5;246m\u001b[23m, M \u001b[3m\u001b[38;5;246m<dbl>\u001b[38;5;246m\u001b[23m\u001b[39m\n"
     ]
    }
   ],
   "source": [
    "# imprime a primeira linha de dados\n",
    "# retora um novo tibble que é sub-conjunto do original\n",
    "print(tbmumu[1,])"
   ]
  },
  {
   "cell_type": "code",
   "execution_count": 29,
   "metadata": {},
   "outputs": [
    {
     "name": "stdout",
     "output_type": "stream",
     "text": [
      "\u001b[38;5;246m# A tibble: 10 x 21\u001b[39m\n",
      "      Run  Event type1    E1    px1     py1    pz1   pt1   eta1  phi1    Q1\n",
      "    \u001b[3m\u001b[38;5;246m<int>\u001b[39m\u001b[23m  \u001b[3m\u001b[38;5;246m<int>\u001b[39m\u001b[23m \u001b[3m\u001b[38;5;246m<fct>\u001b[39m\u001b[23m \u001b[3m\u001b[38;5;246m<dbl>\u001b[39m\u001b[23m  \u001b[3m\u001b[38;5;246m<dbl>\u001b[39m\u001b[23m   \u001b[3m\u001b[38;5;246m<dbl>\u001b[39m\u001b[23m  \u001b[3m\u001b[38;5;246m<dbl>\u001b[39m\u001b[23m \u001b[3m\u001b[38;5;246m<dbl>\u001b[39m\u001b[23m  \u001b[3m\u001b[38;5;246m<dbl>\u001b[39m\u001b[23m \u001b[3m\u001b[38;5;246m<dbl>\u001b[39m\u001b[23m \u001b[3m\u001b[38;5;246m<int>\u001b[39m\u001b[23m\n",
      "\u001b[38;5;250m 1\u001b[39m \u001b[4m1\u001b[24m\u001b[4m6\u001b[24m\u001b[4m5\u001b[24m617 7.46\u001b[38;5;246me\u001b[39m7 G      9.70 -\u001b[31m9\u001b[39m\u001b[31m.\u001b[39m\u001b[31m51\u001b[39m    0.366   1.86  9.52  0.194  3.10    -\u001b[31m1\u001b[39m\n",
      "\u001b[38;5;250m 2\u001b[39m \u001b[4m1\u001b[24m\u001b[4m6\u001b[24m\u001b[4m5\u001b[24m617 7.51\u001b[38;5;246me\u001b[39m7 G      6.20 -\u001b[31m4\u001b[39m\u001b[31m.\u001b[39m\u001b[31m27\u001b[39m    0.456  -\u001b[31m4\u001b[39m\u001b[31m.\u001b[39m\u001b[31m48\u001b[39m  4.29 -\u001b[31m0\u001b[39m\u001b[31m.\u001b[39m\u001b[31m912\u001b[39m  3.04    -\u001b[31m1\u001b[39m\n",
      "\u001b[38;5;250m 3\u001b[39m \u001b[4m1\u001b[24m\u001b[4m6\u001b[24m\u001b[4m5\u001b[24m617 7.56\u001b[38;5;246me\u001b[39m7 G     19.3  -\u001b[31m4\u001b[39m\u001b[31m.\u001b[39m\u001b[31m21\u001b[39m   -\u001b[31m0\u001b[39m\u001b[31m.\u001b[39m\u001b[31m652\u001b[39m  18.8   4.26  2.19  -\u001b[31m2\u001b[39m\u001b[31m.\u001b[39m\u001b[31m99\u001b[39m    -\u001b[31m1\u001b[39m\n",
      "\u001b[38;5;250m 4\u001b[39m \u001b[4m1\u001b[24m\u001b[4m6\u001b[24m\u001b[4m5\u001b[24m617 7.57\u001b[38;5;246me\u001b[39m7 G      7.04 -\u001b[31m6\u001b[39m\u001b[31m.\u001b[39m\u001b[31m33\u001b[39m   -\u001b[31m0\u001b[39m\u001b[31m.\u001b[39m\u001b[31m268\u001b[39m   3.08  6.33  0.469 -\u001b[31m3\u001b[39m\u001b[31m.\u001b[39m\u001b[31m10\u001b[39m    -\u001b[31m1\u001b[39m\n",
      "\u001b[38;5;250m 5\u001b[39m \u001b[4m1\u001b[24m\u001b[4m6\u001b[24m\u001b[4m5\u001b[24m617 7.59\u001b[38;5;246me\u001b[39m7 G      7.28  0.103  -\u001b[31m5\u001b[39m\u001b[31m.\u001b[39m\u001b[31m53\u001b[39m   -\u001b[31m4\u001b[39m\u001b[31m.\u001b[39m\u001b[31m72\u001b[39m  5.53 -\u001b[31m0\u001b[39m\u001b[31m.\u001b[39m\u001b[31m774\u001b[39m -\u001b[31m1\u001b[39m\u001b[31m.\u001b[39m\u001b[31m55\u001b[39m    -\u001b[31m1\u001b[39m\n",
      "\u001b[38;5;250m 6\u001b[39m \u001b[4m1\u001b[24m\u001b[4m6\u001b[24m\u001b[4m5\u001b[24m617 7.46\u001b[38;5;246me\u001b[39m7 G     14.9  -\u001b[31m9\u001b[39m\u001b[31m.\u001b[39m\u001b[31m17\u001b[39m  -\u001b[31m10\u001b[39m\u001b[31m.\u001b[39m\u001b[31m3\u001b[39m    -\u001b[31m5\u001b[39m\u001b[31m.\u001b[39m\u001b[31m71\u001b[39m 13.8  -\u001b[31m0\u001b[39m\u001b[31m.\u001b[39m\u001b[31m402\u001b[39m -\u001b[31m2\u001b[39m\u001b[31m.\u001b[39m\u001b[31m30\u001b[39m    -\u001b[31m1\u001b[39m\n",
      "\u001b[38;5;250m 7\u001b[39m \u001b[4m1\u001b[24m\u001b[4m6\u001b[24m\u001b[4m5\u001b[24m617 7.47\u001b[38;5;246me\u001b[39m7 G     42.0  -\u001b[31m1\u001b[39m\u001b[31m.\u001b[39m\u001b[31m48\u001b[39m  -\u001b[31m12\u001b[39m\u001b[31m.\u001b[39m\u001b[31m5\u001b[39m    40.0  12.6   1.88  -\u001b[31m1\u001b[39m\u001b[31m.\u001b[39m\u001b[31m69\u001b[39m    -\u001b[31m1\u001b[39m\n",
      "\u001b[38;5;250m 8\u001b[39m \u001b[4m1\u001b[24m\u001b[4m6\u001b[24m\u001b[4m5\u001b[24m617 7.47\u001b[38;5;246me\u001b[39m7 G     14.4  -\u001b[31m4\u001b[39m\u001b[31m.\u001b[39m\u001b[31m34\u001b[39m   -\u001b[31m6\u001b[39m\u001b[31m.\u001b[39m\u001b[31m0\u001b[39m\u001b[31m7\u001b[39m  -\u001b[31m12\u001b[39m\u001b[31m.\u001b[39m\u001b[31m3\u001b[39m   7.46 -\u001b[31m1\u001b[39m\u001b[31m.\u001b[39m\u001b[31m28\u001b[39m  -\u001b[31m2\u001b[39m\u001b[31m.\u001b[39m\u001b[31m19\u001b[39m     1\n",
      "\u001b[38;5;250m 9\u001b[39m \u001b[4m1\u001b[24m\u001b[4m6\u001b[24m\u001b[4m5\u001b[24m617 7.52\u001b[38;5;246me\u001b[39m7 G      9.76  2.39   -\u001b[31m3\u001b[39m\u001b[31m.\u001b[39m\u001b[31m78\u001b[39m    8.67  4.47  1.42  -\u001b[31m1\u001b[39m\u001b[31m.\u001b[39m\u001b[31m0\u001b[39m\u001b[31m1\u001b[39m    -\u001b[31m1\u001b[39m\n",
      "\u001b[38;5;250m10\u001b[39m \u001b[4m1\u001b[24m\u001b[4m6\u001b[24m\u001b[4m5\u001b[24m617 7.52\u001b[38;5;246me\u001b[39m7 G     10.2   0.476  -\u001b[31m8\u001b[39m\u001b[31m.\u001b[39m\u001b[31m52\u001b[39m    5.52  8.53  0.609 -\u001b[31m1\u001b[39m\u001b[31m.\u001b[39m\u001b[31m51\u001b[39m    -\u001b[31m1\u001b[39m\n",
      "\u001b[38;5;246m# ... with 10 more variables: type2 \u001b[3m\u001b[38;5;246m<fct>\u001b[38;5;246m\u001b[23m, E2 \u001b[3m\u001b[38;5;246m<dbl>\u001b[38;5;246m\u001b[23m, px2 \u001b[3m\u001b[38;5;246m<dbl>\u001b[38;5;246m\u001b[23m, py2 \u001b[3m\u001b[38;5;246m<dbl>\u001b[38;5;246m\u001b[23m,\n",
      "#   pz2 \u001b[3m\u001b[38;5;246m<dbl>\u001b[38;5;246m\u001b[23m, pt2 \u001b[3m\u001b[38;5;246m<dbl>\u001b[38;5;246m\u001b[23m, eta2 \u001b[3m\u001b[38;5;246m<dbl>\u001b[38;5;246m\u001b[23m, phi2 \u001b[3m\u001b[38;5;246m<dbl>\u001b[38;5;246m\u001b[23m, Q2 \u001b[3m\u001b[38;5;246m<int>\u001b[38;5;246m\u001b[23m, M \u001b[3m\u001b[38;5;246m<dbl>\u001b[38;5;246m\u001b[23m\u001b[39m\n"
     ]
    }
   ],
   "source": [
    "# Este outro exemplo retorna o subconjunto das 10 primeiras linhas\n",
    "print(tbmumu[1:10,])"
   ]
  },
  {
   "cell_type": "markdown",
   "metadata": {},
   "source": [
    "### Calcular a Massa invariante\n",
    "\n",
    "Nossa tabela tem observações de colisões com 2 *múons* no estado final.\n",
    "\n",
    "Como vimos na tabela, temos valores para energia (E), o momentum linear (px, py, pz), a *pseudo-rapidez* (eta ou η, que tem relação com o ángulo polar) e o ángulo azimutal (phi ou φ). \n",
    "\n",
    "Podemos calcular a massa invariante, ou seja a energia equivalente em repouso que produziu esses múons, com a seguinte equação: \n",
    "\n",
    "$M = \\sqrt{(\\sum{E})^2 - ||\\sum{p}||^2}$\n",
    "\n",
    "onde $M$ é a massa invariante,  $\\sum{E}$ é o total da soma das energias (cinética relativística) das partículas finais, e $\\sum{p}$ é o total da soma dos momentos lineares. \n",
    "\n",
    "No nosso código, vamos calcular a massa invariante usando os valores de  `px`, `py` e `pz` e a energia dos dois múons. Primeiramente precisamos calcular a soma vetorial do  momentum. \n",
    "\n",
    "A função `mutate` do **tidyverse** faz o cálculo especificado para cada observação e _adiciona novas variáveis_, nesse casso `ptotal`, `E` e `mass`"
   ]
  },
  {
   "cell_type": "code",
   "execution_count": 30,
   "metadata": {},
   "outputs": [
    {
     "name": "stderr",
     "output_type": "stream",
     "text": [
      "Warning message in sqrt(E^2 - ptotal^2):\n",
      "\"NaNs produced\""
     ]
    },
    {
     "data": {
      "text/html": [
       "<table>\n",
       "<caption>A tibble: 6 × 5</caption>\n",
       "<thead>\n",
       "\t<tr><th scope=col>Run</th><th scope=col>Event</th><th scope=col>ptotal</th><th scope=col>E</th><th scope=col>mass</th></tr>\n",
       "\t<tr><th scope=col>&lt;int&gt;</th><th scope=col>&lt;int&gt;</th><th scope=col>&lt;dbl&gt;</th><th scope=col>&lt;dbl&gt;</th><th scope=col>&lt;dbl&gt;</th></tr>\n",
       "</thead>\n",
       "<tbody>\n",
       "\t<tr><td>165617</td><td>74601703</td><td> 8.532071</td><td>19.4620</td><td>17.492090</td></tr>\n",
       "\t<tr><td>165617</td><td>75100943</td><td>10.884198</td><td>15.8729</td><td>11.553492</td></tr>\n",
       "\t<tr><td>165617</td><td>75587682</td><td>27.633828</td><td>29.1136</td><td> 9.163692</td></tr>\n",
       "\t<tr><td>165617</td><td>75660978</td><td> 1.946736</td><td>12.6284</td><td>12.477448</td></tr>\n",
       "\t<tr><td>165617</td><td>75947690</td><td> 2.831320</td><td>14.5932</td><td>14.315904</td></tr>\n",
       "\t<tr><td>165617</td><td>74570517</td><td>16.579585</td><td>17.9301</td><td> 6.826847</td></tr>\n",
       "</tbody>\n",
       "</table>\n"
      ],
      "text/latex": [
       "A tibble: 6 × 5\n",
       "\\begin{tabular}{r|lllll}\n",
       " Run & Event & ptotal & E & mass\\\\\n",
       " <int> & <int> & <dbl> & <dbl> & <dbl>\\\\\n",
       "\\hline\n",
       "\t 165617 & 74601703 &  8.532071 & 19.4620 & 17.492090\\\\\n",
       "\t 165617 & 75100943 & 10.884198 & 15.8729 & 11.553492\\\\\n",
       "\t 165617 & 75587682 & 27.633828 & 29.1136 &  9.163692\\\\\n",
       "\t 165617 & 75660978 &  1.946736 & 12.6284 & 12.477448\\\\\n",
       "\t 165617 & 75947690 &  2.831320 & 14.5932 & 14.315904\\\\\n",
       "\t 165617 & 74570517 & 16.579585 & 17.9301 &  6.826847\\\\\n",
       "\\end{tabular}\n"
      ],
      "text/markdown": [
       "\n",
       "A tibble: 6 × 5\n",
       "\n",
       "| Run &lt;int&gt; | Event &lt;int&gt; | ptotal &lt;dbl&gt; | E &lt;dbl&gt; | mass &lt;dbl&gt; |\n",
       "|---|---|---|---|---|\n",
       "| 165617 | 74601703 |  8.532071 | 19.4620 | 17.492090 |\n",
       "| 165617 | 75100943 | 10.884198 | 15.8729 | 11.553492 |\n",
       "| 165617 | 75587682 | 27.633828 | 29.1136 |  9.163692 |\n",
       "| 165617 | 75660978 |  1.946736 | 12.6284 | 12.477448 |\n",
       "| 165617 | 75947690 |  2.831320 | 14.5932 | 14.315904 |\n",
       "| 165617 | 74570517 | 16.579585 | 17.9301 |  6.826847 |\n",
       "\n"
      ],
      "text/plain": [
       "  Run    Event    ptotal    E       mass     \n",
       "1 165617 74601703  8.532071 19.4620 17.492090\n",
       "2 165617 75100943 10.884198 15.8729 11.553492\n",
       "3 165617 75587682 27.633828 29.1136  9.163692\n",
       "4 165617 75660978  1.946736 12.6284 12.477448\n",
       "5 165617 75947690  2.831320 14.5932 14.315904\n",
       "6 165617 74570517 16.579585 17.9301  6.826847"
      ]
     },
     "metadata": {},
     "output_type": "display_data"
    }
   ],
   "source": [
    "tbmumu<-tbmumu%>%mutate(ptotal = sqrt((px1+px2)^2 + (py1+py2)^2 + (pz1+pz2)^2), \n",
    "         E = E1+E2, \n",
    "         mass = sqrt(E^2 - ptotal^2))\n",
    "tbmumu%>% select(Run, Event, ptotal,E, mass)%>%head()"
   ]
  },
  {
   "cell_type": "markdown",
   "metadata": {},
   "source": [
    "É possível também definir uma função para fazer nosso cálculo:\n",
    "\n",
    "```\n",
    "myfunctionname = function(arg1, arg2...)\n",
    "{\n",
    "statements\n",
    "return(a) \n",
    "}\n",
    "```\n",
    "\n",
    "Por exemplo podemos definir uma função para a  magnitude soma vetorial de dois vetores de 3 componentes,  e outra função que entrega o resultado para a massa invariante a partir de `ptotal` e `E`"
   ]
  },
  {
   "cell_type": "code",
   "execution_count": 31,
   "metadata": {},
   "outputs": [],
   "source": [
    "sumvecmag = function(x1,x2,y1,y2,z1,z2){\n",
    "    x = x1+x2\n",
    "    y = y1+y2\n",
    "    z = z1+z2\n",
    "    tot = sqrt(x^2+y^2+z^2)\n",
    "    return(tot)\n",
    "}\n",
    "\n",
    "invmass = function(ptot, E) {\n",
    "    m = sqrt(E^2 - ptot^2)\n",
    "    return(m)\n",
    "}"
   ]
  },
  {
   "cell_type": "markdown",
   "metadata": {},
   "source": [
    "Agora podemos adicionar uma nova coluna calculada chamando as funções definidas :"
   ]
  },
  {
   "cell_type": "code",
   "execution_count": 32,
   "metadata": {},
   "outputs": [
    {
     "name": "stderr",
     "output_type": "stream",
     "text": [
      "Warning message in sqrt(E^2 - ptot^2):\n",
      "\"NaNs produced\""
     ]
    },
    {
     "name": "stdout",
     "output_type": "stream",
     "text": [
      "\u001b[38;5;246m# A tibble: 6 x 5\u001b[39m\n",
      "  ptotal ptotal_f     E  mass mass_f\n",
      "   \u001b[3m\u001b[38;5;246m<dbl>\u001b[39m\u001b[23m    \u001b[3m\u001b[38;5;246m<dbl>\u001b[39m\u001b[23m \u001b[3m\u001b[38;5;246m<dbl>\u001b[39m\u001b[23m \u001b[3m\u001b[38;5;246m<dbl>\u001b[39m\u001b[23m  \u001b[3m\u001b[38;5;246m<dbl>\u001b[39m\u001b[23m\n",
      "\u001b[38;5;250m1\u001b[39m   8.53     8.53  19.5 17.5   17.5 \n",
      "\u001b[38;5;250m2\u001b[39m  10.9     10.9   15.9 11.6   11.6 \n",
      "\u001b[38;5;250m3\u001b[39m  27.6     27.6   29.1  9.16   9.16\n",
      "\u001b[38;5;250m4\u001b[39m   1.95     1.95  12.6 12.5   12.5 \n",
      "\u001b[38;5;250m5\u001b[39m   2.83     2.83  14.6 14.3   14.3 \n",
      "\u001b[38;5;250m6\u001b[39m  16.6     16.6   17.9  6.83   6.83\n"
     ]
    }
   ],
   "source": [
    "tbmumu<- tbmumu %>% mutate( \n",
    "    ptotal_f = sumvecmag( px1, px2, py1, py2 , pz1, pz2),\n",
    "    E = E1 + E2,\n",
    "    mass_f=invmass(ptotal_f,E)) \n",
    "\n",
    "# Visualizar as primeiras 6 linhas do tibble, selecionando só as colunas do meu interesse\n",
    "print(head(tbmumu%>% select(ptotal,ptotal_f, E, mass, mass_f)))"
   ]
  },
  {
   "cell_type": "markdown",
   "metadata": {},
   "source": [
    "### Fazer um Histograma\n",
    "\n",
    "Em física de partículas trabalhamos com distribuições de frequências, quer dizer histogramas.\n",
    "\n",
    "Nesse caso, quero olhar só uma porção dos dados, onde a variável massa esta entre 1.1 e 5 (GeV). Para isto posso utilizar a função `filter` do tidyverse, com operadores `%>%`\n"
   ]
  },
  {
   "cell_type": "code",
   "execution_count": 33,
   "metadata": {},
   "outputs": [],
   "source": [
    "tbsel <- tbmumu%>% filter(mass>1.1 & mass < 5) "
   ]
  },
  {
   "cell_type": "markdown",
   "metadata": {},
   "source": [
    "A visualização do gráfico do histograma pode ser feita com a função própria básica do R"
   ]
  },
  {
   "cell_type": "code",
   "execution_count": 34,
   "metadata": {},
   "outputs": [
    {
     "data": {
      "text/html": [
       "'en_US.UTF-8/en_US.UTF-8/en_US.UTF-8/C/en_US.UTF-8/C'"
      ],
      "text/latex": [
       "'en\\_US.UTF-8/en\\_US.UTF-8/en\\_US.UTF-8/C/en\\_US.UTF-8/C'"
      ],
      "text/markdown": [
       "'en_US.UTF-8/en_US.UTF-8/en_US.UTF-8/C/en_US.UTF-8/C'"
      ],
      "text/plain": [
       "[1] \"en_US.UTF-8/en_US.UTF-8/en_US.UTF-8/C/en_US.UTF-8/C\""
      ]
     },
     "metadata": {},
     "output_type": "display_data"
    }
   ],
   "source": [
    "Sys.setlocale(locale = \"en_US.UTF-8\") #Para ter carateres de acentos"
   ]
  },
  {
   "cell_type": "code",
   "execution_count": 35,
   "metadata": {},
   "outputs": [
    {
     "data": {
      "image/png": "[encoded data removed]",
      "text/plain": [
       "Plot with title “Histograma da Massa Invariante”"
      ]
     },
     "metadata": {},
     "output_type": "display_data"
    }
   ],
   "source": [
    "hist(tbsel$mass, breaks = 200, xlim=c(1,5),\n",
    "     main=\"Histograma da Massa Invariante\",\n",
    "     xlab = \"Massa (GeV)\",ylab=\"Frequência \", \n",
    "     lty=\"blank\", \n",
    "     col=\"purple\")"
   ]
  },
  {
   "cell_type": "markdown",
   "metadata": {},
   "source": [
    "Observamos um pico maior perto do valor de $3.1$ GeV  e outro pequeno perto de $3.7$ GeV.\n",
    "Esses valores correspondem às massas de duas partículas que decaem em dois múons ou mais específicamente, um múon e um anti-múon (múon carregado positivamente). \n",
    "\n",
    "Olhando na base de dados do  [Particle Data Group](http://pdg.lbl.gov/), podemos ver que essas partículas são os **mésons** (partículas **hadrônicas** compostas de um quark e um anti-quark)  ***J/ψ(1S)*** e ***ψ(2S)***, respectivamente. \n"
   ]
  },
  {
   "cell_type": "markdown",
   "metadata": {},
   "source": [
    "### Graficando com o tidyverse\n",
    "\n",
    "Podemos condensar o processo de importar, manipular as variáveis e graficar o histograma com um código muito enxuto:\n",
    "\n"
   ]
  },
  {
   "cell_type": "code",
   "execution_count": 37,
   "metadata": {},
   "outputs": [
    {
     "name": "stderr",
     "output_type": "stream",
     "text": [
      "Warning message in sqrt(E^2 - ptotal^2):\n",
      "“NaNs produced”Warning message:\n",
      "“Transformation introduced infinite values in continuous y-axis”Warning message:\n",
      "“Removed 3 rows containing missing values (geom_bar).”"
     ]
    },
    {
     "data": {
      "image/png": "[encoded data removed]",
      "text/plain": [
       "plot without title"
      ]
     },
     "metadata": {},
     "output_type": "display_data"
    }
   ],
   "source": [
    "read_csv(\"http://opendata.cern.ch/record/545/files/Dimuon_DoubleMu.csv\", \n",
    "         col_types = cols()) %>% \n",
    "  mutate(ptotal = sqrt((px1+px2)^2 + (py1+py2)^2 + (pz1+pz2)^2), \n",
    "         E = E1+E2, \n",
    "         mass = sqrt(E^2 - ptotal^2)) %>% \n",
    "  filter(mass >0.1 & mass<120) %>% \n",
    "  ggplot(aes(mass)) + \n",
    "     geom_histogram(bins = 250, fill = \"purple\", alpha = 0.5) + \n",
    "     xlab(\"Massa (GeV)\") + \n",
    "     ylab(\"Frequência\") + \n",
    "     scale_x_continuous(trans = 'log10') +\n",
    "     scale_y_continuous(trans = 'log10') +\n",
    "     ggtitle(\"Espectro de di-múons no CMS\") + \n",
    "     theme_bw() + \n",
    "     theme(plot.title = element_text(hjust = 0.5))"
   ]
  },
  {
   "cell_type": "markdown",
   "metadata": {},
   "source": [
    "Agora está ficando bom!\n",
    "\n",
    "A cadeia de comandos pode ser lida como uma frase, com uma sucessão de **ações** sobre os dados:\n",
    "\n",
    "\"**Leia** o arquivo, \n",
    "  logo **mude** o conteúdo criando as novas variáveis `ptotal`,`E` e `mass`, \n",
    "  logo **filtre** para ver só as observações no intervalo desejado, \n",
    "  logo **grafique** com os parâmetros apropriados\"\n",
    "\n",
    "O pacote de gráficos do tidyverse é ``ggplot2``, onde as diferentes opções do gráfico estão sequenciadas com símbolo `+`. Neste caso eu escolhi usar uma escala `log-log` que permite ter uma visualização abrangente de várias ordens de grandeza, e assim observar vários picos de ressonância."
   ]
  },
  {
   "cell_type": "markdown",
   "metadata": {},
   "source": [
    "As opções do gráfico são:\n",
    "\n",
    "- `ggplot()` a função central do pacote `ggplot2`, que trabalha com o princípio de *camadas*:\n",
    "    1. `aes(mass)` quer dizer que vamos usar a variável `mass` \n",
    "    1. `geom_histogram()` tomar a variável e fazer o histograma\n",
    "    1. `xlab()` e `ylab()` os nomes dos eixos\n",
    "    1. `ggtitle()` título do gráfico\n",
    "    1. `theme_bw()` tema preto-e-branco, \n",
    "    1. `theme()` permite manipular alguns elementos específicos do gráfico"
   ]
  },
  {
   "cell_type": "markdown",
   "metadata": {},
   "source": [
    "## Ajustando uma função ao pico do $J/\\psi$\n",
    "\n",
    "Voltando ao *tibble* onde já habiamos selecionado o intervalo que apresenta o pico do méson $J/\\psi$, podemos chamar a função hist sem graficar para ter só os resultados das frequências nos intervalos."
   ]
  },
  {
   "cell_type": "code",
   "execution_count": 38,
   "metadata": {},
   "outputs": [],
   "source": [
    "a<-hist(tbsel$mass,breaks=200,plot=FALSE)"
   ]
  },
  {
   "cell_type": "code",
   "execution_count": 39,
   "metadata": {},
   "outputs": [
    {
     "name": "stdout",
     "output_type": "stream",
     "text": [
      "     x nobs\n",
      "1 1.11  123\n",
      "2 1.13  128\n",
      "3 1.15  112\n",
      "4 1.17  116\n",
      "5 1.19  142\n",
      "6 1.21  113\n"
     ]
    }
   ],
   "source": [
    "mydf<- data.frame(x=a$mids, nobs=a$counts) \n",
    "print(head(mydf))"
   ]
  },
  {
   "cell_type": "code",
   "execution_count": 40,
   "metadata": {},
   "outputs": [
    {
     "data": {
      "image/png": "[encoded data removed]",
      "text/plain": [
       "plot without title"
      ]
     },
     "metadata": {},
     "output_type": "display_data"
    }
   ],
   "source": [
    "library(latex2exp)\n",
    "mydf %>%\n",
    "   ggplot(aes(x,nobs, ymin=nobs-sqrt(nobs),ymax=nobs+sqrt(nobs))) + \n",
    "   geom_point() + \n",
    "   geom_errorbar() + \n",
    "   xlab(\"Massa (GeV)\")+\n",
    "   ylab(\"Frequência\")+\n",
    "   ggtitle(TeX(\"Histograma do pico dos mésons J/$\\\\psi$ e $\\\\psi$\"))+\n",
    "   theme_bw() + theme(plot.title = element_text(hjust = 0.5))"
   ]
  },
  {
   "cell_type": "markdown",
   "metadata": {},
   "source": [
    "### A função que descreve os dados\n",
    "\n",
    "Uma possível função para descrever esses dois picos seria a soma de uma gaussiana com média perto de $3.1$, outra com média perto de $3.7$ e uma reta decrescente como \"base\" (nosso *background*)."
   ]
  },
  {
   "cell_type": "code",
   "execution_count": 41,
   "metadata": {},
   "outputs": [],
   "source": [
    "my2gausspluslin <- function(x, mean1, sigma1, norm1,mean2,sigma2,norm2,a,b) {\n",
    "    \n",
    "    f <- norm1 * exp(-1*((x-mean1)/sigma1)^2)+ norm2 * exp(-1*((x-mean2)/sigma2)^2) + a*x +b\n",
    "    return(f)\n",
    "}\n"
   ]
  },
  {
   "cell_type": "markdown",
   "metadata": {},
   "source": [
    "Vou chamar a função `nls` que faz a optimização dos parámetros da função com mínimos quadrados não lineares [documentação](https://stat.ethz.ch/R-manual/R-devel/library/stats/html/nls.html)."
   ]
  },
  {
   "cell_type": "code",
   "execution_count": 42,
   "metadata": {},
   "outputs": [
    {
     "data": {
      "text/plain": [
       "\n",
       "Formula: nobs ~ my2gausspluslin(x, mean1, sigma1, norm1, mean2, sigma2, \n",
       "    norm2, a, b)\n",
       "\n",
       "Parameters:\n",
       "         Estimate Std. Error   t value Pr(>|t|)    \n",
       "mean1   3.093e+00  2.501e-04 12368.436  < 2e-16 ***\n",
       "sigma1  4.189e-02  3.562e-04   117.597  < 2e-16 ***\n",
       "norm1   1.731e+03  1.269e+01   136.445  < 2e-16 ***\n",
       "mean2   3.686e+00  7.868e-03   468.453  < 2e-16 ***\n",
       "sigma2  3.522e-02  1.122e-02     3.140 0.001963 ** \n",
       "norm2   5.044e+01  1.384e+01     3.645 0.000346 ***\n",
       "a      -3.294e+01  1.071e+00   -30.758  < 2e-16 ***\n",
       "b       1.695e+02  3.471e+00    48.844  < 2e-16 ***\n",
       "---\n",
       "Signif. codes:  0 ‘***’ 0.001 ‘**’ 0.01 ‘*’ 0.05 ‘.’ 0.1 ‘ ’ 1\n",
       "\n",
       "Residual standard error: 16.74 on 187 degrees of freedom\n",
       "\n",
       "Number of iterations to convergence: 16 \n",
       "Achieved convergence tolerance: 5.399e-06\n"
      ]
     },
     "metadata": {},
     "output_type": "display_data"
    }
   ],
   "source": [
    "res <- nls( nobs ~ my2gausspluslin(x,mean1,sigma1,norm1,mean2,sigma2,norm2,a,b), \n",
    "           data = mydf, \n",
    "           start=list(mean1=3.1, sigma1=0.1, norm1=3000,mean2=3.7,sigma2=0.05,norm2=30,a=-10,b=100))\n",
    "summary(res)"
   ]
  },
  {
   "cell_type": "markdown",
   "metadata": {},
   "source": [
    "Aqui o resultado foi salvo na variável `res`, e posso aplicar esse resultado com a função `predict`. Vamos adicionar uma coluna do número calculado a partir da função ao data frame e salvar com um novo nome de `nexp` por *expected*, número esperado segundo um modelo de 2 gaussianas mais um fundo linear."
   ]
  },
  {
   "cell_type": "code",
   "execution_count": 43,
   "metadata": {},
   "outputs": [
    {
     "name": "stdout",
     "output_type": "stream",
     "text": [
      "     x nobs     nexp\n",
      "1 1.11  123 132.9737\n",
      "2 1.13  128 132.3149\n",
      "3 1.15  112 131.6560\n",
      "4 1.17  116 130.9972\n",
      "5 1.19  142 130.3383\n",
      "6 1.21  113 129.6794\n"
     ]
    }
   ],
   "source": [
    "newdf<- mydf%>% mutate(nexp = predict(res,mydf))\n",
    "print(head(newdf))"
   ]
  },
  {
   "cell_type": "markdown",
   "metadata": {},
   "source": [
    "Graficamos a predição"
   ]
  },
  {
   "cell_type": "code",
   "execution_count": 44,
   "metadata": {},
   "outputs": [
    {
     "data": {
      "image/png": "[encoded data removed]",
      "text/plain": [
       "plot without title"
      ]
     },
     "metadata": {},
     "output_type": "display_data"
    }
   ],
   "source": [
    "newdf%>%\n",
    "ggplot(aes(x,nexp))+\n",
    " geom_path(color=\"purple\")+\n",
    " xlab(\"Massa (GeV)\")+\n",
    " ylab(\"frequência\")+ \n",
    " ggtitle(\"Predição do ajuste da função gaussiana + reta decrescente\")+\n",
    " theme_bw() + theme(plot.title = element_text(hjust = 0.5))"
   ]
  },
  {
   "cell_type": "markdown",
   "metadata": {},
   "source": [
    "### Resultado \n",
    "\n",
    "Finalmente graficamos os pontos das frequências observadas (com erros de distribuição de *Poisson*, $\\sigma_n =\\sqrt{n}$ )   junto com a linha da predição."
   ]
  },
  {
   "cell_type": "code",
   "execution_count": 45,
   "metadata": {},
   "outputs": [
    {
     "name": "stderr",
     "output_type": "stream",
     "text": [
      "Warning message:\n",
      "“Ignoring unknown aesthetics: y”"
     ]
    },
    {
     "data": {
      "image/png": "[encoded data removed]",
      "text/plain": [
       "plot without title"
      ]
     },
     "metadata": {},
     "output_type": "display_data"
    }
   ],
   "source": [
    "ggplot(newdf) +\n",
    " geom_path(aes(x,nexp),color=\"purple\")+\n",
    " geom_point(aes(x,nobs))+\n",
    " geom_errorbar(aes(x,nobs, ymin=nobs-sqrt(nobs),ymax=nobs+sqrt(nobs)))+\n",
    " xlab(\"Massa (GeV)\")+\n",
    " ylab(\"frequência\")+ \n",
    " ggtitle(\"Resultado dos dados com a função do ajuste\")+\n",
    " theme_bw() +theme(plot.title = element_text(hjust = 0.5))"
   ]
  },
  {
   "cell_type": "markdown",
   "metadata": {},
   "source": [
    "## Motivação!\n",
    "\n",
    "Agora estou entusiasmada, vamos dar uma olhada no pico de maior massa nesse espectro?\n",
    "É o pico do bóson Z, que é análogo a um fóton, só que com massa alta (para uma partícula subatómica)."
   ]
  },
  {
   "cell_type": "code",
   "execution_count": 46,
   "metadata": {},
   "outputs": [
    {
     "data": {
      "image/png": "[encoded data removed]",
      "text/plain": [
       "plot without title"
      ]
     },
     "metadata": {},
     "output_type": "display_data"
    }
   ],
   "source": [
    "tbZboson<-tbmumu %>% filter(mass>70 & mass <110)\n",
    "\n",
    "\n",
    "tbZboson %>% \n",
    "ggplot(aes(mass)) + \n",
    "     geom_histogram(bins = 80, fill = \"purple\", alpha = 0.5) + \n",
    "     xlab(\"Massa (GeV)\") + \n",
    "     ylab(\"Frequência\") + \n",
    "     ggtitle(\"Pico do bóson Z\") + \n",
    "     theme_bw() + \n",
    "     theme(plot.title = element_text(hjust = 0.5))"
   ]
  },
  {
   "cell_type": "code",
   "execution_count": 47,
   "metadata": {},
   "outputs": [
    {
     "data": {
      "image/png": "[encoded data removed]",
      "text/plain": [
       "plot without title"
      ]
     },
     "metadata": {},
     "output_type": "display_data"
    }
   ],
   "source": [
    "tbZboson %>% filter(abs(eta1)<2.4 & abs(eta2)<2.4, pt1>20 & pt2>20, type1==\"G\" & type2==\"G\") %>%\n",
    "ggplot(aes(mass)) + \n",
    "     geom_histogram(bins = 80, fill = \"purple\", alpha = 0.5) + \n",
    "     xlab(\"Massa (GeV)\") + \n",
    "     ylab(\"Frequência\") + \n",
    "     ggtitle(\"Pico do bóson Z\") + \n",
    "     theme_bw() + \n",
    "     theme(plot.title = element_text(hjust = 0.5))"
   ]
  },
  {
   "cell_type": "code",
   "execution_count": 48,
   "metadata": {},
   "outputs": [
    {
     "name": "stdout",
     "output_type": "stream",
     "text": [
      "      x  n\n",
      "1 70.25 10\n",
      "2 70.75  8\n",
      "3 71.25  8\n",
      "4 71.75 10\n",
      "5 72.25 19\n",
      "6 72.75  9\n"
     ]
    }
   ],
   "source": [
    "zfilt<- tbZboson %>% filter(abs(eta1)<2.4 & abs(eta2)<2.4, pt1>20 & pt2>20, type1==\"G\" & type2==\"G\")  \n",
    "\n",
    "zh<- hist(zfilt$mass,breaks=80,plot=FALSE)\n",
    "\n",
    "zdf<-data.frame(x=zh$mids,n=zh$counts)\n",
    "print(head(zdf))"
   ]
  },
  {
   "cell_type": "code",
   "execution_count": 49,
   "metadata": {},
   "outputs": [],
   "source": [
    "breitwpluslin  <- function(x,M,gamma,N,a,b){\n",
    "    \n",
    "    b<- a*x +b \n",
    "    s<- N*( (2*sqrt(2)*M*gamma*sqrt(M**2*(M**2+gamma**2)))/(pi*sqrt(M**2+sqrt(M**2*(M**2+gamma**2)))) )/((x**2-M**2)**2+M**2*gamma**2)\n",
    "    return(b+s)\n",
    "}"
   ]
  },
  {
   "cell_type": "code",
   "execution_count": 50,
   "metadata": {},
   "outputs": [
    {
     "data": {
      "text/plain": [
       "\n",
       "Formula: n ~ breitwpluslin(x, m, g, norm, a, b)\n",
       "\n",
       "Parameters:\n",
       "       Estimate Std. Error  t value Pr(>|t|)    \n",
       "m      90.90515    0.02804 3242.298  < 2e-16 ***\n",
       "g       4.23815    0.09440   44.895  < 2e-16 ***\n",
       "norm 2757.98245   51.43696   53.619  < 2e-16 ***\n",
       "a      -0.28158    0.09698   -2.903  0.00485 ** \n",
       "b      24.11621    8.83846    2.729  0.00792 ** \n",
       "---\n",
       "Signif. codes:  0 ‘***’ 0.001 ‘**’ 0.01 ‘*’ 0.05 ‘.’ 0.1 ‘ ’ 1\n",
       "\n",
       "Residual standard error: 9.925 on 75 degrees of freedom\n",
       "\n",
       "Number of iterations to convergence: 12 \n",
       "Achieved convergence tolerance: 1.49e-08\n"
      ]
     },
     "metadata": {},
     "output_type": "display_data"
    }
   ],
   "source": [
    "library(minpack.lm)\n",
    "resz <-nlsLM( n~ breitwpluslin(x,m,g,norm,a,b),\n",
    "           data = zdf, \n",
    "           start=list(m=90, g=3, norm =100,a=-10,b=100))\n",
    "summary(resz)"
   ]
  },
  {
   "cell_type": "code",
   "execution_count": 51,
   "metadata": {},
   "outputs": [
    {
     "name": "stdout",
     "output_type": "stream",
     "text": [
      "\u001b[38;5;246m# A tibble: 80 x 3\u001b[39m\n",
      "       x     n  nexp\n",
      "   \u001b[3m\u001b[38;5;246m<dbl>\u001b[39m\u001b[23m \u001b[3m\u001b[38;5;246m<int>\u001b[39m\u001b[23m \u001b[3m\u001b[38;5;246m<dbl>\u001b[39m\u001b[23m\n",
      "\u001b[38;5;250m 1\u001b[39m  70.2    10  9.82\n",
      "\u001b[38;5;250m 2\u001b[39m  70.8     8  9.91\n",
      "\u001b[38;5;250m 3\u001b[39m  71.2     8 10.0 \n",
      "\u001b[38;5;250m 4\u001b[39m  71.8    10 10.2 \n",
      "\u001b[38;5;250m 5\u001b[39m  72.2    19 10.3 \n",
      "\u001b[38;5;250m 6\u001b[39m  72.8     9 10.5 \n",
      "\u001b[38;5;250m 7\u001b[39m  73.2    10 10.7 \n",
      "\u001b[38;5;250m 8\u001b[39m  73.8    10 10.9 \n",
      "\u001b[38;5;250m 9\u001b[39m  74.2    13 11.2 \n",
      "\u001b[38;5;250m10\u001b[39m  74.8    14 11.5 \n",
      "\u001b[38;5;246m# … with 70 more rows\u001b[39m\n"
     ]
    }
   ],
   "source": [
    "newz<- zdf %>% mutate(nexp=predict(resz,zdf))\n",
    "print(as_tibble(newz))"
   ]
  },
  {
   "cell_type": "code",
   "execution_count": 52,
   "metadata": {},
   "outputs": [
    {
     "name": "stderr",
     "output_type": "stream",
     "text": [
      "Warning message:\n",
      "“Ignoring unknown aesthetics: y”"
     ]
    },
    {
     "data": {
      "image/png": "[encoded data removed]",
      "text/plain": [
       "plot without title"
      ]
     },
     "metadata": {},
     "output_type": "display_data"
    }
   ],
   "source": [
    "newz%>%\n",
    "ggplot(aes(x,nexp))+\n",
    " geom_path(color=\"purple\")+\n",
    "geom_point(aes(x,n))+\n",
    " geom_errorbar(aes(x,n, ymin=n-sqrt(n),ymax=n+sqrt(n)))+\n",
    " xlab(\"Massa (GeV)\")+\n",
    " ylab(\"frequência\")+ \n",
    " ggtitle(\"Predição do ajuste da função Breit-Wigner + reta decrescente\")+\n",
    " theme_bw() + theme(plot.title = element_text(hjust = 0.5))"
   ]
  },
  {
   "cell_type": "markdown",
   "metadata": {},
   "source": [
    "Ahhh amei! \n",
    "Corações roxinhos 4 ever 💜💜💜"
   ]
  }
 ],
 "metadata": {
  "kernel_info": {
   "name": "ir"
  },
  "kernelspec": {
   "display_name": "R",
   "language": "R",
   "name": "ir"
  },
  "language_info": {
   "codemirror_mode": "r",
   "file_extension": ".r",
   "mimetype": "text/x-r-source",
   "name": "R",
   "pygments_lexer": "r",
   "version": "3.3.3"
  },
  "nteract": {
   "version": "0.3.4"
  }
 },
 "nbformat": 4,
 "nbformat_minor": 1
}
